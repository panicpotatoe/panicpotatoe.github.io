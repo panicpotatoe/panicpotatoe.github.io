{
 "cells": [
  {
   "cell_type": "markdown",
   "metadata": {},
   "source": [
    "# 1. Data Pre-processing\n",
    "### 1.1. Define constants"
   ]
  },
  {
   "cell_type": "code",
   "execution_count": 1,
   "metadata": {},
   "outputs": [],
   "source": [
    "# DATA_PATH = \"/Users/nhantran/Library/CloudStorage/GoogleDrive-little.tea.07@gmail.com/My Drive/Workspace/VinBigData/gsm/customer-insights\"\n",
    "DATA_PATH = \"/Users/nhantran/Library/CloudStorage/GoogleDrive-little.tea.07@gmail.com/My Drive/Workspace/VinBigData/gsm/customer-insights\"\n",
    "\n",
    "SAMPLE_BOOKING_GSM = \"data_booking-gsm_part_0.csv\"\n",
    "SAMPLE_BOOKING_PARTNER = \"data_booking-partner_part_0.csv\"\n",
    "SAMPLE_CUSTOMER = \"data_customer_part_0.csv\"\n",
    "\n",
    "CHARTSTUDIO_USERNAME = \"panicpotatoe\"\n",
    "CHARTSTUDIO_API_KEY = \"dUH29yoiNEtXmp251Eh6\""
   ]
  },
  {
   "cell_type": "markdown",
   "metadata": {},
   "source": [
    "### 1.2. Import libraries and settings"
   ]
  },
  {
   "cell_type": "code",
   "execution_count": 2,
   "metadata": {},
   "outputs": [],
   "source": [
    "import pandas as pd\n",
    "\n",
    "pd.set_option(\"display.max_rows\", None)\n",
    "pd.set_option(\"display.max_columns\", None)"
   ]
  },
  {
   "cell_type": "markdown",
   "metadata": {},
   "source": [
    "### 1.3. Import data and apply data types"
   ]
  },
  {
   "cell_type": "code",
   "execution_count": 3,
   "metadata": {},
   "outputs": [
    {
     "name": "stderr",
     "output_type": "stream",
     "text": [
      "/var/folders/ry/rm14stxj66n9l_hyf7tdmwlh0000gn/T/ipykernel_34414/1029334747.py:1: DtypeWarning: Columns (58,61,62) have mixed types. Specify dtype option on import or set low_memory=False.\n",
      "  df = pd.read_csv(f\"{DATA_PATH}/{SAMPLE_BOOKING_GSM}\")\n"
     ]
    },
    {
     "data": {
      "text/html": [
       "<div>\n",
       "<style scoped>\n",
       "    .dataframe tbody tr th:only-of-type {\n",
       "        vertical-align: middle;\n",
       "    }\n",
       "\n",
       "    .dataframe tbody tr th {\n",
       "        vertical-align: top;\n",
       "    }\n",
       "\n",
       "    .dataframe thead th {\n",
       "        text-align: right;\n",
       "    }\n",
       "</style>\n",
       "<table border=\"1\" class=\"dataframe\">\n",
       "  <thead>\n",
       "    <tr style=\"text-align: right;\">\n",
       "      <th></th>\n",
       "      <th>booking_id</th>\n",
       "      <th>customer_id</th>\n",
       "      <th>driver_id</th>\n",
       "      <th>service_id</th>\n",
       "      <th>price_id</th>\n",
       "      <th>vehicle_id</th>\n",
       "      <th>reason_id</th>\n",
       "      <th>priority_id</th>\n",
       "      <th>payment_id</th>\n",
       "      <th>promotion_id</th>\n",
       "      <th>app_id</th>\n",
       "      <th>user_id</th>\n",
       "      <th>`type`</th>\n",
       "      <th>start_address</th>\n",
       "      <th>end_address</th>\n",
       "      <th>start_point</th>\n",
       "      <th>waypoints</th>\n",
       "      <th>list_driver</th>\n",
       "      <th>meter_switch</th>\n",
       "      <th>estimated_time</th>\n",
       "      <th>status</th>\n",
       "      <th>distance</th>\n",
       "      <th>note</th>\n",
       "      <th>type_charged</th>\n",
       "      <th>round_trip</th>\n",
       "      <th>cancel</th>\n",
       "      <th>other_reason</th>\n",
       "      <th>license_plate</th>\n",
       "      <th>total_price</th>\n",
       "      <th>discount</th>\n",
       "      <th>rate_price</th>\n",
       "      <th>is_rush</th>\n",
       "      <th>count_call</th>\n",
       "      <th>customer_app_version</th>\n",
       "      <th>customer_phone_name</th>\n",
       "      <th>customer_phone_os</th>\n",
       "      <th>driver_app_version</th>\n",
       "      <th>driver_phone_name</th>\n",
       "      <th>driver_phone_os</th>\n",
       "      <th>currency</th>\n",
       "      <th>queued</th>\n",
       "      <th>deleted</th>\n",
       "      <th>payment_gateway</th>\n",
       "      <th>journey_status</th>\n",
       "      <th>paid_surcharge</th>\n",
       "      <th>add_customer</th>\n",
       "      <th>add_data</th>\n",
       "      <th>pickup_fee</th>\n",
       "      <th>start_time</th>\n",
       "      <th>accept_time</th>\n",
       "      <th>cancel_time</th>\n",
       "      <th>booking_time</th>\n",
       "      <th>end_request</th>\n",
       "      <th>promotion_code_id</th>\n",
       "      <th>payment_transaction_id</th>\n",
       "      <th>bookingcol</th>\n",
       "      <th>leads_status</th>\n",
       "      <th>business_code</th>\n",
       "      <th>business_note</th>\n",
       "      <th>did_change_destination</th>\n",
       "      <th>payment_code</th>\n",
       "      <th>promotion_code</th>\n",
       "      <th>promotion_session_id</th>\n",
       "      <th>message_error</th>\n",
       "      <th>is_assist</th>\n",
       "      <th>passenger_name</th>\n",
       "      <th>passenger_phone</th>\n",
       "      <th>customer_card_id</th>\n",
       "      <th>distance_source</th>\n",
       "    </tr>\n",
       "  </thead>\n",
       "  <tbody>\n",
       "    <tr>\n",
       "      <th>16259</th>\n",
       "      <td>12314202772162007</td>\n",
       "      <td>23041802772</td>\n",
       "      <td>GSM-230401238</td>\n",
       "      <td>1</td>\n",
       "      <td>5</td>\n",
       "      <td>557.0</td>\n",
       "      <td>39.0</td>\n",
       "      <td>0</td>\n",
       "      <td>11</td>\n",
       "      <td>NaN</td>\n",
       "      <td>1.0</td>\n",
       "      <td>NaN</td>\n",
       "      <td>1</td>\n",
       "      <td>3b P. Phan Đình Phùng, Hàng Mã, Ba Đình, Hà Nộ...</td>\n",
       "      <td>44a P. Hàng Chuối, Phạm Đình Hổ, Hoàn Kiếm, Hà...</td>\n",
       "      <td>21.039794921875 105.84650758840682</td>\n",
       "      <td>[{\"text\":\"3b P. Phan Đình Phùng, Hàng Mã, Ba Đ...</td>\n",
       "      <td>NaN</td>\n",
       "      <td>0</td>\n",
       "      <td>11.5</td>\n",
       "      <td>0</td>\n",
       "      <td>3.656</td>\n",
       "      <td>NaN</td>\n",
       "      <td>1</td>\n",
       "      <td>0</td>\n",
       "      <td>1</td>\n",
       "      <td>NaN</td>\n",
       "      <td>NaN</td>\n",
       "      <td>65000</td>\n",
       "      <td>0</td>\n",
       "      <td>1.0</td>\n",
       "      <td>0</td>\n",
       "      <td>1</td>\n",
       "      <td>NaN</td>\n",
       "      <td>NaN</td>\n",
       "      <td>NaN</td>\n",
       "      <td>10020.0</td>\n",
       "      <td>coconut - Active 3 - vsmart</td>\n",
       "      <td>Android 10, API 29</td>\n",
       "      <td>₫</td>\n",
       "      <td>0</td>\n",
       "      <td>0</td>\n",
       "      <td>NaN</td>\n",
       "      <td>5</td>\n",
       "      <td>0</td>\n",
       "      <td>NaN</td>\n",
       "      <td>NaN</td>\n",
       "      <td>0</td>\n",
       "      <td>1688134787000</td>\n",
       "      <td>1.688135e+12</td>\n",
       "      <td>1.688135e+12</td>\n",
       "      <td>NaN</td>\n",
       "      <td>NaN</td>\n",
       "      <td>NaN</td>\n",
       "      <td>GSM12314202772162007</td>\n",
       "      <td>NaN</td>\n",
       "      <td>0</td>\n",
       "      <td>NaN</td>\n",
       "      <td>NaN</td>\n",
       "      <td>0</td>\n",
       "      <td>NaN</td>\n",
       "      <td>NaN</td>\n",
       "      <td>NaN</td>\n",
       "      <td>NaN</td>\n",
       "      <td>NaN</td>\n",
       "      <td>NaN</td>\n",
       "      <td>NaN</td>\n",
       "      <td>NaN</td>\n",
       "      <td>NaN</td>\n",
       "    </tr>\n",
       "  </tbody>\n",
       "</table>\n",
       "</div>"
      ],
      "text/plain": [
       "              booking_id  customer_id      driver_id  service_id  price_id  \\\n",
       "16259  12314202772162007  23041802772  GSM-230401238           1         5   \n",
       "\n",
       "       vehicle_id  reason_id  priority_id  payment_id  promotion_id  app_id  \\\n",
       "16259       557.0       39.0            0          11           NaN     1.0   \n",
       "\n",
       "       user_id  `type`                                      start_address  \\\n",
       "16259      NaN       1  3b P. Phan Đình Phùng, Hàng Mã, Ba Đình, Hà Nộ...   \n",
       "\n",
       "                                             end_address  \\\n",
       "16259  44a P. Hàng Chuối, Phạm Đình Hổ, Hoàn Kiếm, Hà...   \n",
       "\n",
       "                              start_point  \\\n",
       "16259  21.039794921875 105.84650758840682   \n",
       "\n",
       "                                               waypoints list_driver  \\\n",
       "16259  [{\"text\":\"3b P. Phan Đình Phùng, Hàng Mã, Ba Đ...         NaN   \n",
       "\n",
       "       meter_switch  estimated_time  status  distance note  type_charged  \\\n",
       "16259             0            11.5       0     3.656  NaN             1   \n",
       "\n",
       "       round_trip  cancel other_reason  license_plate  total_price  discount  \\\n",
       "16259           0       1          NaN            NaN        65000         0   \n",
       "\n",
       "       rate_price  is_rush  count_call  customer_app_version  \\\n",
       "16259         1.0        0           1                   NaN   \n",
       "\n",
       "       customer_phone_name  customer_phone_os  driver_app_version  \\\n",
       "16259                  NaN                NaN             10020.0   \n",
       "\n",
       "                 driver_phone_name     driver_phone_os currency  queued  \\\n",
       "16259  coconut - Active 3 - vsmart  Android 10, API 29        ₫       0   \n",
       "\n",
       "       deleted  payment_gateway  journey_status  paid_surcharge  add_customer  \\\n",
       "16259        0              NaN               5               0           NaN   \n",
       "\n",
       "       add_data  pickup_fee     start_time   accept_time   cancel_time  \\\n",
       "16259       NaN           0  1688134787000  1.688135e+12  1.688135e+12   \n",
       "\n",
       "       booking_time  end_request  promotion_code_id payment_transaction_id  \\\n",
       "16259           NaN          NaN                NaN   GSM12314202772162007   \n",
       "\n",
       "       bookingcol  leads_status  business_code business_note  \\\n",
       "16259         NaN             0            NaN           NaN   \n",
       "\n",
       "       did_change_destination  payment_code promotion_code  \\\n",
       "16259                       0           NaN            NaN   \n",
       "\n",
       "      promotion_session_id message_error  is_assist  passenger_name  \\\n",
       "16259                  NaN           NaN        NaN             NaN   \n",
       "\n",
       "       passenger_phone  customer_card_id  distance_source  \n",
       "16259              NaN               NaN              NaN  "
      ]
     },
     "execution_count": 3,
     "metadata": {},
     "output_type": "execute_result"
    }
   ],
   "source": [
    "df = pd.read_csv(f\"{DATA_PATH}/{SAMPLE_BOOKING_GSM}\")\n",
    "df.sample(1)"
   ]
  },
  {
   "cell_type": "markdown",
   "metadata": {},
   "source": [
    "# 2. Define crucial functions\n",
    "### 2.1. Define functions to extract location information from the address"
   ]
  },
  {
   "cell_type": "code",
   "execution_count": 4,
   "metadata": {},
   "outputs": [],
   "source": [
    "def get_address_level(address):\n",
    "    # create blank variables to store address in 1 line of code\n",
    "    unit = street = ward = district = province = country = str()\n",
    "\n",
    "    # split start address to get country, province, district, ward, street, unit\n",
    "    try:\n",
    "        country = address.split(\",\")[-1]\n",
    "    except:\n",
    "        pass\n",
    "    try:\n",
    "        province = address.split(\",\")[-2]\n",
    "    except:\n",
    "        pass\n",
    "    try:\n",
    "        district = address.split(\",\")[-3]\n",
    "    except:\n",
    "        pass\n",
    "    try:\n",
    "        ward = address.split(\",\")[-4]\n",
    "    except:\n",
    "        pass\n",
    "    try:\n",
    "        street = address.split(\",\")[-5]\n",
    "    except:\n",
    "        pass\n",
    "    try:\n",
    "        unit = address.split(\",\")[-6]\n",
    "    except:\n",
    "        pass\n",
    "\n",
    "    return unit, street, ward, district, province, country\n",
    "\n",
    "\n",
    "# address_level = get_address_level(address)\n",
    "# print(\n",
    "#     f\"unit: {address_level[0]}\\nstreet: {address_level[1]}\\nward: {address_level[2]}\\ndistrict: {address_level[3]}\\nprovince: {address_level[4]}\\ncountry: {address_level[5]}\"\n",
    "# )"
   ]
  },
  {
   "cell_type": "markdown",
   "metadata": {},
   "source": [
    "### 2.2. Define functions to extract convert Unix time to datetime"
   ]
  },
  {
   "cell_type": "code",
   "execution_count": 5,
   "metadata": {},
   "outputs": [],
   "source": [
    "# create a function that get Unix time and return datetime\n",
    "def get_datetime(unix_time, to_string=True, is_millisecond=True):\n",
    "    import datetime\n",
    "\n",
    "    # define a null timestamp variable with data type is datetime\n",
    "    timestamp = None\n",
    "\n",
    "    # check if unix_time is not null\n",
    "    if not pd.isnull(unix_time):\n",
    "        # check if input is millisecond or second\n",
    "        if is_millisecond:\n",
    "            timestamp = datetime.datetime.fromtimestamp(unix_time / 1000)\n",
    "        else:\n",
    "            timestamp = datetime.datetime.fromtimestamp(unix_time)\n",
    "\n",
    "        # convert datetime to string if to_string is True\n",
    "        if to_string:\n",
    "            timestamp = timestamp.strftime(\"%Y-%m-%d %H:%M:%S\")\n",
    "    else:\n",
    "        timestamp = None\n",
    "    return timestamp"
   ]
  },
  {
   "cell_type": "markdown",
   "metadata": {},
   "source": [
    "# 3. Data Pre-processing"
   ]
  },
  {
   "cell_type": "code",
   "execution_count": 6,
   "metadata": {},
   "outputs": [
    {
     "data": {
      "text/plain": [
       "booking_id                         int64\n",
       "customer_id                       object\n",
       "driver_id                         object\n",
       "service_id                         int64\n",
       "price_id                           int64\n",
       "vehicle_id                       float64\n",
       "reason_id                        float64\n",
       "priority_id                        int64\n",
       "payment_id                         int64\n",
       "promotion_id                     float64\n",
       "app_id                           float64\n",
       "user_id                          float64\n",
       "`type`                             int64\n",
       "start_address                     object\n",
       "end_address                       object\n",
       "start_point                       object\n",
       "waypoints                         object\n",
       "list_driver                       object\n",
       "meter_switch                       int64\n",
       "estimated_time                   float64\n",
       "status                             int64\n",
       "distance                         float64\n",
       "note                              object\n",
       "type_charged                       int64\n",
       "round_trip                         int64\n",
       "cancel                             int64\n",
       "other_reason                      object\n",
       "license_plate                    float64\n",
       "total_price                        int64\n",
       "discount                           int64\n",
       "rate_price                       float64\n",
       "is_rush                            int64\n",
       "count_call                         int64\n",
       "customer_app_version             float64\n",
       "customer_phone_name              float64\n",
       "customer_phone_os                float64\n",
       "driver_app_version               float64\n",
       "driver_phone_name                 object\n",
       "driver_phone_os                   object\n",
       "currency                          object\n",
       "queued                             int64\n",
       "deleted                            int64\n",
       "payment_gateway                  float64\n",
       "journey_status                     int64\n",
       "paid_surcharge                     int64\n",
       "add_customer                     float64\n",
       "add_data                         float64\n",
       "pickup_fee                         int64\n",
       "start_time                datetime64[ns]\n",
       "accept_time               datetime64[ns]\n",
       "cancel_time               datetime64[ns]\n",
       "booking_time                      object\n",
       "end_request                      float64\n",
       "promotion_code_id                float64\n",
       "payment_transaction_id            object\n",
       "bookingcol                       float64\n",
       "leads_status                       int64\n",
       "business_code                    float64\n",
       "business_note                     object\n",
       "did_change_destination             int64\n",
       "payment_code                     float64\n",
       "promotion_code                    object\n",
       "promotion_session_id              object\n",
       "message_error                     object\n",
       "is_assist                        float64\n",
       "passenger_name                   float64\n",
       "passenger_phone                  float64\n",
       "customer_card_id                 float64\n",
       "distance_source                  float64\n",
       "dtype: object"
      ]
     },
     "execution_count": 6,
     "metadata": {},
     "output_type": "execute_result"
    }
   ],
   "source": [
    "# convert all Unix timestamp to datetime using get_datetime function\n",
    "df[\"start_time\"] = df[\"start_time\"].apply(\n",
    "    get_datetime, to_string=False, is_millisecond=True\n",
    ")\n",
    "df[\"accept_time\"] = df[\"accept_time\"].apply(\n",
    "    get_datetime, to_string=False, is_millisecond=True\n",
    ")\n",
    "df[\"cancel_time\"] = df[\"cancel_time\"].apply(\n",
    "    get_datetime, to_string=False, is_millisecond=True\n",
    ")\n",
    "df[\"booking_time\"] = df[\"booking_time\"].apply(\n",
    "    get_datetime, to_string=False, is_millisecond=True\n",
    ")\n",
    "df.dtypes"
   ]
  },
  {
   "cell_type": "markdown",
   "metadata": {},
   "source": [
    "# 3. Data analysis\n",
    "## 3.1. Data analysis by pick up and drop off locations"
   ]
  },
  {
   "cell_type": "code",
   "execution_count": 7,
   "metadata": {},
   "outputs": [
    {
     "data": {
      "text/html": [
       "<div>\n",
       "<style scoped>\n",
       "    .dataframe tbody tr th:only-of-type {\n",
       "        vertical-align: middle;\n",
       "    }\n",
       "\n",
       "    .dataframe tbody tr th {\n",
       "        vertical-align: top;\n",
       "    }\n",
       "\n",
       "    .dataframe thead th {\n",
       "        text-align: right;\n",
       "    }\n",
       "</style>\n",
       "<table border=\"1\" class=\"dataframe\">\n",
       "  <thead>\n",
       "    <tr style=\"text-align: right;\">\n",
       "      <th></th>\n",
       "      <th>booking_id</th>\n",
       "      <th>customer_id</th>\n",
       "      <th>driver_id</th>\n",
       "      <th>service_id</th>\n",
       "      <th>price_id</th>\n",
       "      <th>vehicle_id</th>\n",
       "      <th>reason_id</th>\n",
       "      <th>priority_id</th>\n",
       "      <th>payment_id</th>\n",
       "      <th>promotion_id</th>\n",
       "      <th>app_id</th>\n",
       "      <th>user_id</th>\n",
       "      <th>`type`</th>\n",
       "      <th>start_address</th>\n",
       "      <th>end_address</th>\n",
       "      <th>start_point</th>\n",
       "      <th>waypoints</th>\n",
       "      <th>list_driver</th>\n",
       "      <th>meter_switch</th>\n",
       "      <th>estimated_time</th>\n",
       "      <th>status</th>\n",
       "      <th>distance</th>\n",
       "      <th>note</th>\n",
       "      <th>type_charged</th>\n",
       "      <th>round_trip</th>\n",
       "      <th>cancel</th>\n",
       "      <th>other_reason</th>\n",
       "      <th>license_plate</th>\n",
       "      <th>total_price</th>\n",
       "      <th>discount</th>\n",
       "      <th>rate_price</th>\n",
       "      <th>is_rush</th>\n",
       "      <th>count_call</th>\n",
       "      <th>customer_app_version</th>\n",
       "      <th>customer_phone_name</th>\n",
       "      <th>customer_phone_os</th>\n",
       "      <th>driver_app_version</th>\n",
       "      <th>driver_phone_name</th>\n",
       "      <th>driver_phone_os</th>\n",
       "      <th>currency</th>\n",
       "      <th>queued</th>\n",
       "      <th>deleted</th>\n",
       "      <th>payment_gateway</th>\n",
       "      <th>journey_status</th>\n",
       "      <th>paid_surcharge</th>\n",
       "      <th>add_customer</th>\n",
       "      <th>add_data</th>\n",
       "      <th>pickup_fee</th>\n",
       "      <th>start_time</th>\n",
       "      <th>accept_time</th>\n",
       "      <th>cancel_time</th>\n",
       "      <th>booking_time</th>\n",
       "      <th>end_request</th>\n",
       "      <th>promotion_code_id</th>\n",
       "      <th>payment_transaction_id</th>\n",
       "      <th>bookingcol</th>\n",
       "      <th>leads_status</th>\n",
       "      <th>business_code</th>\n",
       "      <th>business_note</th>\n",
       "      <th>did_change_destination</th>\n",
       "      <th>payment_code</th>\n",
       "      <th>promotion_code</th>\n",
       "      <th>promotion_session_id</th>\n",
       "      <th>message_error</th>\n",
       "      <th>is_assist</th>\n",
       "      <th>passenger_name</th>\n",
       "      <th>passenger_phone</th>\n",
       "      <th>customer_card_id</th>\n",
       "      <th>distance_source</th>\n",
       "      <th>start_address_l5</th>\n",
       "      <th>start_address_l4</th>\n",
       "      <th>start_address_l3</th>\n",
       "      <th>start_address_l2</th>\n",
       "      <th>start_address_l1</th>\n",
       "      <th>start_address_l0</th>\n",
       "      <th>end_address_l5</th>\n",
       "      <th>end_address_l4</th>\n",
       "      <th>end_address_l3</th>\n",
       "      <th>end_address_l2</th>\n",
       "      <th>end_address_l1</th>\n",
       "      <th>end_address_l0</th>\n",
       "    </tr>\n",
       "  </thead>\n",
       "  <tbody>\n",
       "    <tr>\n",
       "      <th>12879</th>\n",
       "      <td>12317204067162007</td>\n",
       "      <td>23051704067</td>\n",
       "      <td>NaN</td>\n",
       "      <td>49</td>\n",
       "      <td>61</td>\n",
       "      <td>NaN</td>\n",
       "      <td>NaN</td>\n",
       "      <td>0</td>\n",
       "      <td>20</td>\n",
       "      <td>NaN</td>\n",
       "      <td>1.0</td>\n",
       "      <td>NaN</td>\n",
       "      <td>1</td>\n",
       "      <td>8VM4+QWH, Ganh Dau, Phú Quốc, Kien Giang, Vietnam</td>\n",
       "      <td>6XQ8+72J, Dương Đông, Phú Quốc, Kien Giang, Vi...</td>\n",
       "      <td>10.335405754768345 103.85734671726823</td>\n",
       "      <td>[{\"text\":\"8VM4+QWH, Ganh Dau, Phú Quốc\",\"geoco...</td>\n",
       "      <td>[\"PQC-230624044\"]</td>\n",
       "      <td>0</td>\n",
       "      <td>23.3</td>\n",
       "      <td>-1</td>\n",
       "      <td>17.943</td>\n",
       "      <td>NaN</td>\n",
       "      <td>1</td>\n",
       "      <td>0</td>\n",
       "      <td>0</td>\n",
       "      <td>NaN</td>\n",
       "      <td>NaN</td>\n",
       "      <td>296000</td>\n",
       "      <td>0</td>\n",
       "      <td>1.0</td>\n",
       "      <td>0</td>\n",
       "      <td>1</td>\n",
       "      <td>NaN</td>\n",
       "      <td>NaN</td>\n",
       "      <td>NaN</td>\n",
       "      <td>NaN</td>\n",
       "      <td>NaN</td>\n",
       "      <td>NaN</td>\n",
       "      <td>₫</td>\n",
       "      <td>0</td>\n",
       "      <td>0</td>\n",
       "      <td>NaN</td>\n",
       "      <td>0</td>\n",
       "      <td>0</td>\n",
       "      <td>NaN</td>\n",
       "      <td>NaN</td>\n",
       "      <td>0</td>\n",
       "      <td>2023-06-30 20:17:31</td>\n",
       "      <td>NaT</td>\n",
       "      <td>NaT</td>\n",
       "      <td>None</td>\n",
       "      <td>NaN</td>\n",
       "      <td>NaN</td>\n",
       "      <td>NaN</td>\n",
       "      <td>NaN</td>\n",
       "      <td>0</td>\n",
       "      <td>NaN</td>\n",
       "      <td>NaN</td>\n",
       "      <td>0</td>\n",
       "      <td>NaN</td>\n",
       "      <td>NaN</td>\n",
       "      <td>NaN</td>\n",
       "      <td>NaN</td>\n",
       "      <td>NaN</td>\n",
       "      <td>NaN</td>\n",
       "      <td>NaN</td>\n",
       "      <td>NaN</td>\n",
       "      <td>NaN</td>\n",
       "      <td></td>\n",
       "      <td>8VM4+QWH</td>\n",
       "      <td>Ganh Dau</td>\n",
       "      <td>Phú Quốc</td>\n",
       "      <td>Kien Giang</td>\n",
       "      <td>Vietnam</td>\n",
       "      <td></td>\n",
       "      <td>6XQ8+72J</td>\n",
       "      <td>Dương Đông</td>\n",
       "      <td>Phú Quốc</td>\n",
       "      <td>Kien Giang</td>\n",
       "      <td>Vietnam</td>\n",
       "    </tr>\n",
       "    <tr>\n",
       "      <th>736</th>\n",
       "      <td>12317909857162001</td>\n",
       "      <td>23052409857</td>\n",
       "      <td>NaN</td>\n",
       "      <td>7</td>\n",
       "      <td>52</td>\n",
       "      <td>NaN</td>\n",
       "      <td>NaN</td>\n",
       "      <td>0</td>\n",
       "      <td>1</td>\n",
       "      <td>NaN</td>\n",
       "      <td>1.0</td>\n",
       "      <td>NaN</td>\n",
       "      <td>1</td>\n",
       "      <td>PMPF+HM4, Đ. 783 Tạ Quang Bửu, Bình Hưng, Quận...</td>\n",
       "      <td>53 Tản Đà, Phường 10 (Quận 5), Quận 5, Thành p...</td>\n",
       "      <td>10.73626708984375 106.67430711929136</td>\n",
       "      <td>[{\"text\":\"PMPF+HM4, Đ. 783 Tạ Quang Bửu, Bình ...</td>\n",
       "      <td>NaN</td>\n",
       "      <td>0</td>\n",
       "      <td>8.1</td>\n",
       "      <td>-1</td>\n",
       "      <td>3.063</td>\n",
       "      <td>NaN</td>\n",
       "      <td>1</td>\n",
       "      <td>0</td>\n",
       "      <td>0</td>\n",
       "      <td>NaN</td>\n",
       "      <td>NaN</td>\n",
       "      <td>56000</td>\n",
       "      <td>0</td>\n",
       "      <td>1.0</td>\n",
       "      <td>0</td>\n",
       "      <td>1</td>\n",
       "      <td>NaN</td>\n",
       "      <td>NaN</td>\n",
       "      <td>NaN</td>\n",
       "      <td>NaN</td>\n",
       "      <td>NaN</td>\n",
       "      <td>NaN</td>\n",
       "      <td>₫</td>\n",
       "      <td>0</td>\n",
       "      <td>0</td>\n",
       "      <td>NaN</td>\n",
       "      <td>0</td>\n",
       "      <td>0</td>\n",
       "      <td>NaN</td>\n",
       "      <td>NaN</td>\n",
       "      <td>0</td>\n",
       "      <td>2023-06-30 18:09:57</td>\n",
       "      <td>NaT</td>\n",
       "      <td>NaT</td>\n",
       "      <td>None</td>\n",
       "      <td>NaN</td>\n",
       "      <td>NaN</td>\n",
       "      <td>NaN</td>\n",
       "      <td>NaN</td>\n",
       "      <td>0</td>\n",
       "      <td>NaN</td>\n",
       "      <td>NaN</td>\n",
       "      <td>0</td>\n",
       "      <td>NaN</td>\n",
       "      <td>NaN</td>\n",
       "      <td>NaN</td>\n",
       "      <td>NaN</td>\n",
       "      <td>NaN</td>\n",
       "      <td>NaN</td>\n",
       "      <td>NaN</td>\n",
       "      <td>NaN</td>\n",
       "      <td>NaN</td>\n",
       "      <td>PMPF+HM4</td>\n",
       "      <td>Đ. 783 Tạ Quang Bửu</td>\n",
       "      <td>Bình Hưng</td>\n",
       "      <td>Quận 8</td>\n",
       "      <td>Thành phố Hồ Chí Minh</td>\n",
       "      <td>Vietnam</td>\n",
       "      <td></td>\n",
       "      <td>53 Tản Đà</td>\n",
       "      <td>Phường 10 (Quận 5)</td>\n",
       "      <td>Quận 5</td>\n",
       "      <td>Thành phố Hồ Chí Minh</td>\n",
       "      <td>Việt Nam</td>\n",
       "    </tr>\n",
       "    <tr>\n",
       "      <th>15481</th>\n",
       "      <td>4234940116249453</td>\n",
       "      <td>C-23030101</td>\n",
       "      <td>HUE-230517299</td>\n",
       "      <td>17</td>\n",
       "      <td>19</td>\n",
       "      <td>1577.0</td>\n",
       "      <td>NaN</td>\n",
       "      <td>1</td>\n",
       "      <td>1</td>\n",
       "      <td>NaN</td>\n",
       "      <td>NaN</td>\n",
       "      <td>NaN</td>\n",
       "      <td>4</td>\n",
       "      <td>Giảng đường Đại học sư phạm, Lê Lợi, Phú Hội, ...</td>\n",
       "      <td>FJ78+9M Thành phố Huế, Thừa Thiên Huế, Vietnam</td>\n",
       "      <td>16.4688621 107.59245</td>\n",
       "      <td>[{\"x\":\"16.4688621\",\"y\":\"107.59245\",\"text\":\"Giả...</td>\n",
       "      <td>NaN</td>\n",
       "      <td>1</td>\n",
       "      <td>0.0</td>\n",
       "      <td>2</td>\n",
       "      <td>0.000</td>\n",
       "      <td>NaN</td>\n",
       "      <td>2</td>\n",
       "      <td>0</td>\n",
       "      <td>0</td>\n",
       "      <td>NaN</td>\n",
       "      <td>NaN</td>\n",
       "      <td>0</td>\n",
       "      <td>0</td>\n",
       "      <td>1.0</td>\n",
       "      <td>0</td>\n",
       "      <td>1</td>\n",
       "      <td>NaN</td>\n",
       "      <td>NaN</td>\n",
       "      <td>NaN</td>\n",
       "      <td>10019.0</td>\n",
       "      <td>jacaranda - Aris - vsmart</td>\n",
       "      <td>Android 11, API 30</td>\n",
       "      <td>₫</td>\n",
       "      <td>0</td>\n",
       "      <td>0</td>\n",
       "      <td>NaN</td>\n",
       "      <td>0</td>\n",
       "      <td>0</td>\n",
       "      <td>NaN</td>\n",
       "      <td>NaN</td>\n",
       "      <td>0</td>\n",
       "      <td>2023-06-30 21:03:20</td>\n",
       "      <td>NaT</td>\n",
       "      <td>NaT</td>\n",
       "      <td>None</td>\n",
       "      <td>NaN</td>\n",
       "      <td>NaN</td>\n",
       "      <td>NaN</td>\n",
       "      <td>NaN</td>\n",
       "      <td>0</td>\n",
       "      <td>NaN</td>\n",
       "      <td>NaN</td>\n",
       "      <td>0</td>\n",
       "      <td>NaN</td>\n",
       "      <td>NaN</td>\n",
       "      <td>NaN</td>\n",
       "      <td>NaN</td>\n",
       "      <td>NaN</td>\n",
       "      <td>NaN</td>\n",
       "      <td>NaN</td>\n",
       "      <td>NaN</td>\n",
       "      <td>NaN</td>\n",
       "      <td>Giảng đường Đại học sư phạm</td>\n",
       "      <td>Lê Lợi</td>\n",
       "      <td>Phú Hội</td>\n",
       "      <td>Thành phố Huế</td>\n",
       "      <td>Thừa Thiên Huế</td>\n",
       "      <td>Vietnam</td>\n",
       "      <td></td>\n",
       "      <td></td>\n",
       "      <td></td>\n",
       "      <td>FJ78+9M Thành phố Huế</td>\n",
       "      <td>Thừa Thiên Huế</td>\n",
       "      <td>Vietnam</td>\n",
       "    </tr>\n",
       "    <tr>\n",
       "      <th>2578</th>\n",
       "      <td>12320602875162020</td>\n",
       "      <td>23062002875</td>\n",
       "      <td>NaN</td>\n",
       "      <td>46</td>\n",
       "      <td>48</td>\n",
       "      <td>NaN</td>\n",
       "      <td>NaN</td>\n",
       "      <td>0</td>\n",
       "      <td>1</td>\n",
       "      <td>NaN</td>\n",
       "      <td>1.0</td>\n",
       "      <td>NaN</td>\n",
       "      <td>1</td>\n",
       "      <td>Oscar Saigon Hotel, Đường Nguyễn Huệ, Bến Nghé...</td>\n",
       "      <td>Cari Ấn Độ Musa, Đường Sư Vạn Hạnh, Phường 9 (...</td>\n",
       "      <td>10.7748014 106.7033222</td>\n",
       "      <td>[{\"text\":\"Oscar Saigon Hotel, Đường Nguyễn Huệ...</td>\n",
       "      <td>NaN</td>\n",
       "      <td>0</td>\n",
       "      <td>15.7</td>\n",
       "      <td>-1</td>\n",
       "      <td>4.561</td>\n",
       "      <td>NaN</td>\n",
       "      <td>1</td>\n",
       "      <td>0</td>\n",
       "      <td>0</td>\n",
       "      <td>NaN</td>\n",
       "      <td>NaN</td>\n",
       "      <td>86000</td>\n",
       "      <td>0</td>\n",
       "      <td>1.0</td>\n",
       "      <td>0</td>\n",
       "      <td>1</td>\n",
       "      <td>NaN</td>\n",
       "      <td>NaN</td>\n",
       "      <td>NaN</td>\n",
       "      <td>NaN</td>\n",
       "      <td>NaN</td>\n",
       "      <td>NaN</td>\n",
       "      <td>₫</td>\n",
       "      <td>0</td>\n",
       "      <td>0</td>\n",
       "      <td>NaN</td>\n",
       "      <td>0</td>\n",
       "      <td>0</td>\n",
       "      <td>NaN</td>\n",
       "      <td>NaN</td>\n",
       "      <td>0</td>\n",
       "      <td>2023-06-30 18:27:38</td>\n",
       "      <td>NaT</td>\n",
       "      <td>NaT</td>\n",
       "      <td>None</td>\n",
       "      <td>NaN</td>\n",
       "      <td>NaN</td>\n",
       "      <td>NaN</td>\n",
       "      <td>NaN</td>\n",
       "      <td>0</td>\n",
       "      <td>NaN</td>\n",
       "      <td>NaN</td>\n",
       "      <td>0</td>\n",
       "      <td>NaN</td>\n",
       "      <td>NaN</td>\n",
       "      <td>NaN</td>\n",
       "      <td>NaN</td>\n",
       "      <td>NaN</td>\n",
       "      <td>NaN</td>\n",
       "      <td>NaN</td>\n",
       "      <td>NaN</td>\n",
       "      <td>NaN</td>\n",
       "      <td>Oscar Saigon Hotel</td>\n",
       "      <td>Đường Nguyễn Huệ</td>\n",
       "      <td>Bến Nghé</td>\n",
       "      <td>Quận 1</td>\n",
       "      <td>Thành phố Hồ Chí Minh</td>\n",
       "      <td>Việt Nam</td>\n",
       "      <td>Cari Ấn Độ Musa</td>\n",
       "      <td>Đường Sư Vạn Hạnh</td>\n",
       "      <td>Phường 9 (Quận 5)</td>\n",
       "      <td>Quận 5</td>\n",
       "      <td>Thành phố Hồ Chí Minh</td>\n",
       "      <td>Việt Nam</td>\n",
       "    </tr>\n",
       "    <tr>\n",
       "      <th>10183</th>\n",
       "      <td>12318505683162002</td>\n",
       "      <td>23053005683</td>\n",
       "      <td>HUE-230606020</td>\n",
       "      <td>16</td>\n",
       "      <td>18</td>\n",
       "      <td>2997.0</td>\n",
       "      <td>NaN</td>\n",
       "      <td>0</td>\n",
       "      <td>1</td>\n",
       "      <td>NaN</td>\n",
       "      <td>1.0</td>\n",
       "      <td>NaN</td>\n",
       "      <td>1</td>\n",
       "      <td>1 kiet 43 Yết Kiêu, Thuận Hoà, Thành phố Huế, ...</td>\n",
       "      <td>6A Võ Thị Sáu, Phú Hội, Thành phố Huế, Thừa Th...</td>\n",
       "      <td>16.467559814453125 107.56951143708089</td>\n",
       "      <td>[{\"text\":\"1 kiet 43 Yết Kiêu, Thuận Hoà, Thành...</td>\n",
       "      <td>NaN</td>\n",
       "      <td>0</td>\n",
       "      <td>10.1</td>\n",
       "      <td>2</td>\n",
       "      <td>3.854</td>\n",
       "      <td>NaN</td>\n",
       "      <td>1</td>\n",
       "      <td>0</td>\n",
       "      <td>0</td>\n",
       "      <td>NaN</td>\n",
       "      <td>NaN</td>\n",
       "      <td>64000</td>\n",
       "      <td>0</td>\n",
       "      <td>1.0</td>\n",
       "      <td>0</td>\n",
       "      <td>1</td>\n",
       "      <td>NaN</td>\n",
       "      <td>NaN</td>\n",
       "      <td>NaN</td>\n",
       "      <td>10741.0</td>\n",
       "      <td>iPhone</td>\n",
       "      <td>iOS 16.3.1</td>\n",
       "      <td>₫</td>\n",
       "      <td>0</td>\n",
       "      <td>0</td>\n",
       "      <td>NaN</td>\n",
       "      <td>5</td>\n",
       "      <td>0</td>\n",
       "      <td>NaN</td>\n",
       "      <td>NaN</td>\n",
       "      <td>0</td>\n",
       "      <td>2023-06-30 19:26:56</td>\n",
       "      <td>2023-06-30 19:27:04</td>\n",
       "      <td>NaT</td>\n",
       "      <td>None</td>\n",
       "      <td>NaN</td>\n",
       "      <td>NaN</td>\n",
       "      <td>NaN</td>\n",
       "      <td>NaN</td>\n",
       "      <td>0</td>\n",
       "      <td>NaN</td>\n",
       "      <td>NaN</td>\n",
       "      <td>0</td>\n",
       "      <td>NaN</td>\n",
       "      <td>NaN</td>\n",
       "      <td>NaN</td>\n",
       "      <td>NaN</td>\n",
       "      <td>NaN</td>\n",
       "      <td>NaN</td>\n",
       "      <td>NaN</td>\n",
       "      <td>NaN</td>\n",
       "      <td>NaN</td>\n",
       "      <td></td>\n",
       "      <td>1 kiet 43 Yết Kiêu</td>\n",
       "      <td>Thuận Hoà</td>\n",
       "      <td>Thành phố Huế</td>\n",
       "      <td>Thừa Thiên Huế</td>\n",
       "      <td>Vietnam</td>\n",
       "      <td></td>\n",
       "      <td>6A Võ Thị Sáu</td>\n",
       "      <td>Phú Hội</td>\n",
       "      <td>Thành phố Huế</td>\n",
       "      <td>Thừa Thiên Huế</td>\n",
       "      <td>Việt Nam</td>\n",
       "    </tr>\n",
       "  </tbody>\n",
       "</table>\n",
       "</div>"
      ],
      "text/plain": [
       "              booking_id  customer_id      driver_id  service_id  price_id  \\\n",
       "12879  12317204067162007  23051704067            NaN          49        61   \n",
       "736    12317909857162001  23052409857            NaN           7        52   \n",
       "15481   4234940116249453   C-23030101  HUE-230517299          17        19   \n",
       "2578   12320602875162020  23062002875            NaN          46        48   \n",
       "10183  12318505683162002  23053005683  HUE-230606020          16        18   \n",
       "\n",
       "       vehicle_id  reason_id  priority_id  payment_id  promotion_id  app_id  \\\n",
       "12879         NaN        NaN            0          20           NaN     1.0   \n",
       "736           NaN        NaN            0           1           NaN     1.0   \n",
       "15481      1577.0        NaN            1           1           NaN     NaN   \n",
       "2578          NaN        NaN            0           1           NaN     1.0   \n",
       "10183      2997.0        NaN            0           1           NaN     1.0   \n",
       "\n",
       "       user_id  `type`                                      start_address  \\\n",
       "12879      NaN       1  8VM4+QWH, Ganh Dau, Phú Quốc, Kien Giang, Vietnam   \n",
       "736        NaN       1  PMPF+HM4, Đ. 783 Tạ Quang Bửu, Bình Hưng, Quận...   \n",
       "15481      NaN       4  Giảng đường Đại học sư phạm, Lê Lợi, Phú Hội, ...   \n",
       "2578       NaN       1  Oscar Saigon Hotel, Đường Nguyễn Huệ, Bến Nghé...   \n",
       "10183      NaN       1  1 kiet 43 Yết Kiêu, Thuận Hoà, Thành phố Huế, ...   \n",
       "\n",
       "                                             end_address  \\\n",
       "12879  6XQ8+72J, Dương Đông, Phú Quốc, Kien Giang, Vi...   \n",
       "736    53 Tản Đà, Phường 10 (Quận 5), Quận 5, Thành p...   \n",
       "15481     FJ78+9M Thành phố Huế, Thừa Thiên Huế, Vietnam   \n",
       "2578   Cari Ấn Độ Musa, Đường Sư Vạn Hạnh, Phường 9 (...   \n",
       "10183  6A Võ Thị Sáu, Phú Hội, Thành phố Huế, Thừa Th...   \n",
       "\n",
       "                                 start_point  \\\n",
       "12879  10.335405754768345 103.85734671726823   \n",
       "736     10.73626708984375 106.67430711929136   \n",
       "15481                   16.4688621 107.59245   \n",
       "2578                  10.7748014 106.7033222   \n",
       "10183  16.467559814453125 107.56951143708089   \n",
       "\n",
       "                                               waypoints        list_driver  \\\n",
       "12879  [{\"text\":\"8VM4+QWH, Ganh Dau, Phú Quốc\",\"geoco...  [\"PQC-230624044\"]   \n",
       "736    [{\"text\":\"PMPF+HM4, Đ. 783 Tạ Quang Bửu, Bình ...                NaN   \n",
       "15481  [{\"x\":\"16.4688621\",\"y\":\"107.59245\",\"text\":\"Giả...                NaN   \n",
       "2578   [{\"text\":\"Oscar Saigon Hotel, Đường Nguyễn Huệ...                NaN   \n",
       "10183  [{\"text\":\"1 kiet 43 Yết Kiêu, Thuận Hoà, Thành...                NaN   \n",
       "\n",
       "       meter_switch  estimated_time  status  distance note  type_charged  \\\n",
       "12879             0            23.3      -1    17.943  NaN             1   \n",
       "736               0             8.1      -1     3.063  NaN             1   \n",
       "15481             1             0.0       2     0.000  NaN             2   \n",
       "2578              0            15.7      -1     4.561  NaN             1   \n",
       "10183             0            10.1       2     3.854  NaN             1   \n",
       "\n",
       "       round_trip  cancel other_reason  license_plate  total_price  discount  \\\n",
       "12879           0       0          NaN            NaN       296000         0   \n",
       "736             0       0          NaN            NaN        56000         0   \n",
       "15481           0       0          NaN            NaN            0         0   \n",
       "2578            0       0          NaN            NaN        86000         0   \n",
       "10183           0       0          NaN            NaN        64000         0   \n",
       "\n",
       "       rate_price  is_rush  count_call  customer_app_version  \\\n",
       "12879         1.0        0           1                   NaN   \n",
       "736           1.0        0           1                   NaN   \n",
       "15481         1.0        0           1                   NaN   \n",
       "2578          1.0        0           1                   NaN   \n",
       "10183         1.0        0           1                   NaN   \n",
       "\n",
       "       customer_phone_name  customer_phone_os  driver_app_version  \\\n",
       "12879                  NaN                NaN                 NaN   \n",
       "736                    NaN                NaN                 NaN   \n",
       "15481                  NaN                NaN             10019.0   \n",
       "2578                   NaN                NaN                 NaN   \n",
       "10183                  NaN                NaN             10741.0   \n",
       "\n",
       "               driver_phone_name     driver_phone_os currency  queued  \\\n",
       "12879                        NaN                 NaN        ₫       0   \n",
       "736                          NaN                 NaN        ₫       0   \n",
       "15481  jacaranda - Aris - vsmart  Android 11, API 30        ₫       0   \n",
       "2578                         NaN                 NaN        ₫       0   \n",
       "10183                     iPhone          iOS 16.3.1        ₫       0   \n",
       "\n",
       "       deleted  payment_gateway  journey_status  paid_surcharge  add_customer  \\\n",
       "12879        0              NaN               0               0           NaN   \n",
       "736          0              NaN               0               0           NaN   \n",
       "15481        0              NaN               0               0           NaN   \n",
       "2578         0              NaN               0               0           NaN   \n",
       "10183        0              NaN               5               0           NaN   \n",
       "\n",
       "       add_data  pickup_fee          start_time         accept_time  \\\n",
       "12879       NaN           0 2023-06-30 20:17:31                 NaT   \n",
       "736         NaN           0 2023-06-30 18:09:57                 NaT   \n",
       "15481       NaN           0 2023-06-30 21:03:20                 NaT   \n",
       "2578        NaN           0 2023-06-30 18:27:38                 NaT   \n",
       "10183       NaN           0 2023-06-30 19:26:56 2023-06-30 19:27:04   \n",
       "\n",
       "      cancel_time booking_time  end_request  promotion_code_id  \\\n",
       "12879         NaT         None          NaN                NaN   \n",
       "736           NaT         None          NaN                NaN   \n",
       "15481         NaT         None          NaN                NaN   \n",
       "2578          NaT         None          NaN                NaN   \n",
       "10183         NaT         None          NaN                NaN   \n",
       "\n",
       "      payment_transaction_id  bookingcol  leads_status  business_code  \\\n",
       "12879                    NaN         NaN             0            NaN   \n",
       "736                      NaN         NaN             0            NaN   \n",
       "15481                    NaN         NaN             0            NaN   \n",
       "2578                     NaN         NaN             0            NaN   \n",
       "10183                    NaN         NaN             0            NaN   \n",
       "\n",
       "      business_note  did_change_destination  payment_code promotion_code  \\\n",
       "12879           NaN                       0           NaN            NaN   \n",
       "736             NaN                       0           NaN            NaN   \n",
       "15481           NaN                       0           NaN            NaN   \n",
       "2578            NaN                       0           NaN            NaN   \n",
       "10183           NaN                       0           NaN            NaN   \n",
       "\n",
       "      promotion_session_id message_error  is_assist  passenger_name  \\\n",
       "12879                  NaN           NaN        NaN             NaN   \n",
       "736                    NaN           NaN        NaN             NaN   \n",
       "15481                  NaN           NaN        NaN             NaN   \n",
       "2578                   NaN           NaN        NaN             NaN   \n",
       "10183                  NaN           NaN        NaN             NaN   \n",
       "\n",
       "       passenger_phone  customer_card_id  distance_source  \\\n",
       "12879              NaN               NaN              NaN   \n",
       "736                NaN               NaN              NaN   \n",
       "15481              NaN               NaN              NaN   \n",
       "2578               NaN               NaN              NaN   \n",
       "10183              NaN               NaN              NaN   \n",
       "\n",
       "                  start_address_l5     start_address_l4 start_address_l3  \\\n",
       "12879                                          8VM4+QWH         Ganh Dau   \n",
       "736                       PMPF+HM4  Đ. 783 Tạ Quang Bửu        Bình Hưng   \n",
       "15481  Giảng đường Đại học sư phạm               Lê Lợi          Phú Hội   \n",
       "2578            Oscar Saigon Hotel     Đường Nguyễn Huệ         Bến Nghé   \n",
       "10183                                1 kiet 43 Yết Kiêu        Thuận Hoà   \n",
       "\n",
       "      start_address_l2       start_address_l1 start_address_l0  \\\n",
       "12879         Phú Quốc             Kien Giang          Vietnam   \n",
       "736             Quận 8  Thành phố Hồ Chí Minh          Vietnam   \n",
       "15481    Thành phố Huế         Thừa Thiên Huế          Vietnam   \n",
       "2578            Quận 1  Thành phố Hồ Chí Minh         Việt Nam   \n",
       "10183    Thành phố Huế         Thừa Thiên Huế          Vietnam   \n",
       "\n",
       "        end_address_l5     end_address_l4      end_address_l3  \\\n",
       "12879                            6XQ8+72J          Dương Đông   \n",
       "736                             53 Tản Đà  Phường 10 (Quận 5)   \n",
       "15481                                                           \n",
       "2578   Cari Ấn Độ Musa  Đường Sư Vạn Hạnh   Phường 9 (Quận 5)   \n",
       "10183                       6A Võ Thị Sáu             Phú Hội   \n",
       "\n",
       "              end_address_l2         end_address_l1 end_address_l0  \n",
       "12879               Phú Quốc             Kien Giang        Vietnam  \n",
       "736                   Quận 5  Thành phố Hồ Chí Minh       Việt Nam  \n",
       "15481  FJ78+9M Thành phố Huế         Thừa Thiên Huế        Vietnam  \n",
       "2578                  Quận 5  Thành phố Hồ Chí Minh       Việt Nam  \n",
       "10183          Thành phố Huế         Thừa Thiên Huế       Việt Nam  "
      ]
     },
     "execution_count": 7,
     "metadata": {},
     "output_type": "execute_result"
    }
   ],
   "source": [
    "# create new df with `start_address` and `end_address` columns\n",
    "# df_address = df[[\"start_time\", \"start_address\", \"end_address\"]].copy()\n",
    "df_address = df.copy()\n",
    "\n",
    "# get address level of start address and end address\n",
    "start_address_level = df_address[\"start_address\"].apply(get_address_level)\n",
    "end_address_level = df_address[\"end_address\"].apply(get_address_level)\n",
    "\n",
    "# add new columns for start address unit, street, ward, district, province, country\n",
    "df_address.loc[:, \"start_address_l5\"] = start_address_level.apply(\n",
    "    lambda x: x[0]\n",
    ").str.strip()\n",
    "df_address.loc[:, \"start_address_l4\"] = start_address_level.apply(\n",
    "    lambda x: x[1]\n",
    ").str.strip()\n",
    "df_address.loc[:, \"start_address_l3\"] = start_address_level.apply(\n",
    "    lambda x: x[2]\n",
    ").str.strip()\n",
    "df_address.loc[:, \"start_address_l2\"] = start_address_level.apply(\n",
    "    lambda x: x[3]\n",
    ").str.strip()\n",
    "df_address.loc[:, \"start_address_l1\"] = start_address_level.apply(\n",
    "    lambda x: x[4]\n",
    ").str.strip()\n",
    "df_address.loc[:, \"start_address_l0\"] = start_address_level.apply(\n",
    "    lambda x: x[5]\n",
    ").str.strip()\n",
    "\n",
    "# add new columns for end address unit, street, ward, district, province, country\n",
    "df_address.loc[:, \"end_address_l5\"] = end_address_level.apply(\n",
    "    lambda x: x[0]\n",
    ").str.strip()\n",
    "df_address.loc[:, \"end_address_l4\"] = end_address_level.apply(\n",
    "    lambda x: x[1]\n",
    ").str.strip()\n",
    "df_address.loc[:, \"end_address_l3\"] = end_address_level.apply(\n",
    "    lambda x: x[2]\n",
    ").str.strip()\n",
    "df_address.loc[:, \"end_address_l2\"] = end_address_level.apply(\n",
    "    lambda x: x[3]\n",
    ").str.strip()\n",
    "df_address.loc[:, \"end_address_l1\"] = end_address_level.apply(\n",
    "    lambda x: x[4]\n",
    ").str.strip()\n",
    "df_address.loc[:, \"end_address_l0\"] = end_address_level.apply(\n",
    "    lambda x: x[5]\n",
    ").str.strip()\n",
    "\n",
    "df_address.to_csv(f\"processed-data/data_booking-gsm_part_0_address.csv\", index=False)\n",
    "df_address.sample(5)"
   ]
  },
  {
   "cell_type": "code",
   "execution_count": 8,
   "metadata": {},
   "outputs": [],
   "source": [
    "# replace all null values with \"no location\"\n",
    "df_address = df_address.fillna(\"no location\")\n",
    "# replace all blank values with \"no location\"\n",
    "df_address = df_address.replace(\"\", \"no location\")"
   ]
  },
  {
   "cell_type": "code",
   "execution_count": 9,
   "metadata": {},
   "outputs": [
    {
     "name": "stdout",
     "output_type": "stream",
     "text": [
      "min_start_time: 2023-06-30 18:00:00\n",
      "max_start_time: 2023-06-30 21:28:33\n"
     ]
    }
   ],
   "source": [
    "# FILTER\n",
    "# filter data with `start_address_l1` contains `Hà Nội`\n",
    "df_address_by_province = df_address[\n",
    "    df_address[\"start_address_l1\"].str.contains(\"Hà Nội\", na=False)\n",
    "].copy()\n",
    "\n",
    "# FILTER\n",
    "# filter data with `start_time` is within 2023-06-30 18:00:00 and 2023-06-30 19:00:00\n",
    "# df_address_by_province = df_address_by_province[\n",
    "#     (df_address_by_province[\"start_time\"] >= \"2023-06-30 18:00:00\")\n",
    "#     & (df_address_by_province[\"start_time\"] <= \"2023-06-30 19:00:00\")\n",
    "# ].copy()\n",
    "\n",
    "# get min and max `start_time`\n",
    "min_start_time = df_address_by_province[\"start_time\"].min()\n",
    "max_start_time = [\"start_time\"].max()\n",
    "print(f\"min_start_time: {min_start_time}\\nmax_start_time: {max_start_time}\")"
   ]
  },
  {
   "cell_type": "code",
   "execution_count": 15,
   "metadata": {},
   "outputs": [
    {
     "data": {
      "text/plain": [
       "2519"
      ]
     },
     "execution_count": 15,
     "metadata": {},
     "output_type": "execute_result"
    }
   ],
   "source": [
    "len(df_address_by_province)"
   ]
  },
  {
   "cell_type": "markdown",
   "metadata": {},
   "source": [
    "### 3.1.1. Sankey digram by administritive area level 3"
   ]
  },
  {
   "cell_type": "code",
   "execution_count": 10,
   "metadata": {},
   "outputs": [
    {
     "name": "stdout",
     "output_type": "stream",
     "text": [
      "An Khánh\n"
     ]
    }
   ],
   "source": [
    "# create a sample dataframe from `df_address` including `start_address_l3`, `end_address_l3`\n",
    "df_address_sample = df_address_by_province[\n",
    "    [\"start_address_l3\", \"end_address_l3\"]\n",
    "].reset_index(drop=True)\n",
    "\n",
    "# OPTIONAL\n",
    "# drop rows that have `start_address_l3` and `end_address_l3` start with numbers\n",
    "df_address_sample = df_address_sample[\n",
    "    ~df_address_sample[\"start_address_l3\"].str.contains(\"^\\d\", na=False)\n",
    "]\n",
    "df_address_sample = df_address_sample[\n",
    "    ~df_address_sample[\"end_address_l3\"].str.contains(\"^\\d\", na=False)\n",
    "]\n",
    "\n",
    "# create a list of wards based on `start_address_l3` and `end_address_l3`\n",
    "wards = list(\n",
    "    set(df_address_sample[\"start_address_l3\"].unique())\n",
    "    | set(df_address_sample[\"end_address_l3\"].unique())\n",
    ")\n",
    "wards = sorted(wards)\n",
    "\n",
    "print(wards[0])"
   ]
  },
  {
   "cell_type": "code",
   "execution_count": 11,
   "metadata": {},
   "outputs": [
    {
     "data": {
      "text/html": [
       "<div>\n",
       "<style scoped>\n",
       "    .dataframe tbody tr th:only-of-type {\n",
       "        vertical-align: middle;\n",
       "    }\n",
       "\n",
       "    .dataframe tbody tr th {\n",
       "        vertical-align: top;\n",
       "    }\n",
       "\n",
       "    .dataframe thead th {\n",
       "        text-align: right;\n",
       "    }\n",
       "</style>\n",
       "<table border=\"1\" class=\"dataframe\">\n",
       "  <thead>\n",
       "    <tr style=\"text-align: right;\">\n",
       "      <th></th>\n",
       "      <th>start_address_l3</th>\n",
       "      <th>end_address_l3</th>\n",
       "    </tr>\n",
       "  </thead>\n",
       "  <tbody>\n",
       "    <tr>\n",
       "      <th>0</th>\n",
       "      <td>115</td>\n",
       "      <td>35</td>\n",
       "    </tr>\n",
       "    <tr>\n",
       "      <th>1</th>\n",
       "      <td>61</td>\n",
       "      <td>137</td>\n",
       "    </tr>\n",
       "    <tr>\n",
       "      <th>2</th>\n",
       "      <td>110</td>\n",
       "      <td>372</td>\n",
       "    </tr>\n",
       "    <tr>\n",
       "      <th>3</th>\n",
       "      <td>385</td>\n",
       "      <td>384</td>\n",
       "    </tr>\n",
       "    <tr>\n",
       "      <th>4</th>\n",
       "      <td>246</td>\n",
       "      <td>360</td>\n",
       "    </tr>\n",
       "  </tbody>\n",
       "</table>\n",
       "</div>"
      ],
      "text/plain": [
       "  start_address_l3 end_address_l3\n",
       "0              115             35\n",
       "1               61            137\n",
       "2              110            372\n",
       "3              385            384\n",
       "4              246            360"
      ]
     },
     "execution_count": 11,
     "metadata": {},
     "output_type": "execute_result"
    }
   ],
   "source": [
    "# label encoding for `start_address_l3` and `end_address_l3`\n",
    "# by replacing `start_address_l3` and `end_address_l3` with index of `ward`\n",
    "df_address_sample.loc[:, \"start_address_l3\"] = df_address_sample[\n",
    "    \"start_address_l3\"\n",
    "].apply(lambda x: wards.index(x))\n",
    "df_address_sample.loc[:, \"end_address_l3\"] = df_address_sample[\"end_address_l3\"].apply(\n",
    "    lambda x: wards.index(x)\n",
    ")\n",
    "df_address_sample.head(5)"
   ]
  },
  {
   "cell_type": "code",
   "execution_count": 12,
   "metadata": {},
   "outputs": [
    {
     "data": {
      "text/html": [
       "<div>\n",
       "<style scoped>\n",
       "    .dataframe tbody tr th:only-of-type {\n",
       "        vertical-align: middle;\n",
       "    }\n",
       "\n",
       "    .dataframe tbody tr th {\n",
       "        vertical-align: top;\n",
       "    }\n",
       "\n",
       "    .dataframe thead th {\n",
       "        text-align: right;\n",
       "    }\n",
       "</style>\n",
       "<table border=\"1\" class=\"dataframe\">\n",
       "  <thead>\n",
       "    <tr style=\"text-align: right;\">\n",
       "      <th></th>\n",
       "      <th>start_address_l3</th>\n",
       "      <th>end_address_l3</th>\n",
       "      <th>count</th>\n",
       "    </tr>\n",
       "  </thead>\n",
       "  <tbody>\n",
       "    <tr>\n",
       "      <th>638</th>\n",
       "      <td>128</td>\n",
       "      <td>19</td>\n",
       "      <td>3</td>\n",
       "    </tr>\n",
       "    <tr>\n",
       "      <th>1533</th>\n",
       "      <td>364</td>\n",
       "      <td>122</td>\n",
       "      <td>6</td>\n",
       "    </tr>\n",
       "    <tr>\n",
       "      <th>188</th>\n",
       "      <td>36</td>\n",
       "      <td>121</td>\n",
       "      <td>5</td>\n",
       "    </tr>\n",
       "    <tr>\n",
       "      <th>6</th>\n",
       "      <td>0</td>\n",
       "      <td>272</td>\n",
       "      <td>3</td>\n",
       "    </tr>\n",
       "    <tr>\n",
       "      <th>553</th>\n",
       "      <td>121</td>\n",
       "      <td>35</td>\n",
       "      <td>4</td>\n",
       "    </tr>\n",
       "  </tbody>\n",
       "</table>\n",
       "</div>"
      ],
      "text/plain": [
       "      start_address_l3  end_address_l3  count\n",
       "638                128              19      3\n",
       "1533               364             122      6\n",
       "188                 36             121      5\n",
       "6                    0             272      3\n",
       "553                121              35      4"
      ]
     },
     "execution_count": 12,
     "metadata": {},
     "output_type": "execute_result"
    }
   ],
   "source": [
    "# group `df_address_sample` by `start_address_ward` and `end_address_ward` and count the number of rows as `count`\n",
    "\n",
    "df_address_sample_sk = df_address_sample.groupby(\n",
    "    [\"start_address_l3\", \"end_address_l3\"]\n",
    ").size()\n",
    "\n",
    "# reset index of `df_address_sample_sk` and rename columns\n",
    "df_address_sample_sk = df_address_sample_sk.reset_index()\n",
    "df_address_sample_sk.columns = [\"start_address_l3\", \"end_address_l3\", \"count\"]\n",
    "\n",
    "# FILTER\n",
    "# filter `df_address_sample_sk` with `count` > 100\n",
    "df_address_sample_sk = df_address_sample_sk[df_address_sample_sk[\"count\"] > 2]\n",
    "\n",
    "df_address_sample_sk.sample(5)"
   ]
  },
  {
   "cell_type": "code",
   "execution_count": 13,
   "metadata": {},
   "outputs": [
    {
     "data": {
      "application/vnd.plotly.v1+json": {
       "config": {
        "plotlyServerURL": "https://plotly.com"
       },
       "data": [
        {
         "link": {
          "source": [
           0,
           10,
           18,
           21,
           26,
           27,
           27,
           28,
           32,
           35,
           35,
           35,
           35,
           35,
           36,
           36,
           36,
           50,
           55,
           55,
           57,
           60,
           78,
           81,
           81,
           81,
           86,
           102,
           108,
           110,
           110,
           114,
           114,
           114,
           115,
           117,
           121,
           121,
           122,
           122,
           125,
           125,
           125,
           125,
           125,
           128,
           128,
           128,
           128,
           129,
           129,
           130,
           130,
           136,
           140,
           140,
           141,
           150,
           151,
           155,
           155,
           155,
           161,
           163,
           167,
           171,
           171,
           171,
           172,
           174,
           176,
           182,
           194,
           202,
           230,
           231,
           236,
           236,
           236,
           236,
           236,
           246,
           246,
           246,
           246,
           249,
           255,
           255,
           255,
           255,
           255,
           255,
           255,
           255,
           255,
           255,
           256,
           260,
           261,
           262,
           262,
           263,
           266,
           266,
           266,
           266,
           270,
           272,
           272,
           320,
           354,
           362,
           362,
           364,
           364,
           364,
           364,
           364,
           367,
           372,
           372,
           376,
           376,
           378,
           381,
           396,
           398,
           401,
           411,
           411,
           414,
           417
          ],
          "target": [
           272,
           63,
           140,
           8,
           122,
           63,
           266,
           50,
           32,
           35,
           36,
           128,
           129,
           372,
           35,
           36,
           121,
           246,
           10,
           364,
           266,
           112,
           129,
           231,
           262,
           418,
           171,
           21,
           373,
           125,
           150,
           36,
           121,
           273,
           135,
           19,
           35,
           57,
           62,
           364,
           35,
           125,
           129,
           255,
           367,
           19,
           101,
           125,
           128,
           130,
           255,
           150,
           372,
           353,
           190,
           236,
           117,
           398,
           262,
           21,
           125,
           236,
           270,
           115,
           117,
           35,
           384,
           401,
           172,
           127,
           190,
           186,
           150,
           264,
           95,
           122,
           36,
           155,
           236,
           246,
           255,
           155,
           236,
           249,
           372,
           356,
           115,
           125,
           128,
           155,
           236,
           243,
           255,
           261,
           272,
           372,
           244,
           129,
           43,
           118,
           364,
           390,
           118,
           167,
           266,
           364,
           357,
           272,
           384,
           117,
           408,
           117,
           364,
           122,
           246,
           262,
           360,
           364,
           110,
           255,
           372,
           251,
           411,
           52,
           365,
           246,
           46,
           23,
           50,
           411,
           157,
           273
          ],
          "value": [
           3,
           3,
           4,
           4,
           4,
           4,
           3,
           3,
           3,
           4,
           6,
           3,
           4,
           3,
           8,
           4,
           5,
           3,
           3,
           3,
           3,
           3,
           3,
           3,
           4,
           3,
           3,
           3,
           3,
           3,
           6,
           6,
           3,
           4,
           3,
           3,
           4,
           3,
           3,
           6,
           3,
           6,
           4,
           5,
           3,
           3,
           3,
           5,
           9,
           3,
           3,
           3,
           3,
           7,
           3,
           3,
           3,
           3,
           3,
           4,
           3,
           3,
           4,
           3,
           3,
           3,
           3,
           3,
           3,
           3,
           3,
           3,
           3,
           3,
           3,
           3,
           3,
           4,
           3,
           6,
           3,
           3,
           10,
           3,
           3,
           3,
           3,
           5,
           3,
           9,
           6,
           3,
           14,
           5,
           8,
           5,
           15,
           4,
           3,
           4,
           7,
           3,
           3,
           4,
           8,
           6,
           4,
           7,
           4,
           3,
           29,
           3,
           5,
           6,
           3,
           3,
           3,
           8,
           3,
           3,
           5,
           3,
           3,
           3,
           5,
           3,
           3,
           3,
           3,
           3,
           4,
           4
          ]
         },
         "node": {
          "label": [
           "An Khánh",
           "An Thượng",
           "Ba La",
           "Ba Đình",
           "Bách Khoa",
           "Bãi Cháy",
           "Bích Hòa",
           "Bùi Thị Xuân",
           "Bưởi",
           "Bạch Mai",
           "Bạch Đằng",
           "Bắc Biên",
           "Bồ Đề",
           "Cao Thắng",
           "Chung cư Vinaconex 1",
           "Chương Dương",
           "Chương Dương Độ",
           "Chợ Dừa",
           "Cát Linh",
           "Cầu Diễn",
           "Cầu Dền",
           "Cống Vị",
           "Cổ Nhuế",
           "Cổ Nhuế 1",
           "Cổ Nhuế 2",
           "Cụm Dân Cư Số 2",
           "Cửa Nam",
           "Cửa Đông",
           "Cự Khê",
           "Cự Khôi",
           "Dân Hoà",
           "Dương Kinh",
           "Dương Nội",
           "Dương Quảng",
           "Dương Xá",
           "Dịch Vọng",
           "Dịch Vọng Hậu",
           "French Quarter",
           "Geleximco A",
           "Gia Thượng",
           "Gia Thụy",
           "Giai Phạm",
           "Giang Biên",
           "Giáp Bát",
           "Giáp Nhị",
           "Giải Phóng",
           "Giảng Võ",
           "Goldmark City",
           "Hoàn Kiếm",
           "Hoàng Diệu",
           "Hoàng Liệt",
           "Hoàng Văn Thụ",
           "Hà Cầu",
           "Hà Nội",
           "Hàng Buồm",
           "Hàng Bài",
           "Hàng Bông",
           "Hàng Bạc",
           "Hàng Bồ",
           "Hàng Bột",
           "Hàng Gai",
           "Hàng Mã",
           "Hàng Trống",
           "Hàng Đào",
           "Hạ Đình",
           "Hồng Thái",
           "Khu Ngoại giao đoàn",
           "Khu chung cư Green Stars",
           "Khu công nghiệp Phú Thị",
           "Khu tập thể Giảng Võ",
           "Khu tập thể Kim Liên",
           "Khu tập thể Nghĩa Tân",
           "Khu tập thể Đại học Ngoại ngữ",
           "Khu Đô Thị MớiĐịnh Công",
           "Khu đô thị An Hưng",
           "Khu đô thị Ciputra",
           "Khu đô thị Mỗ Lao",
           "Khu đô thị Nam An Khánh",
           "Khu đô thị Nam Trung Yên",
           "Khu đô thị Royal City",
           "Khu đô thị Thành phố Giao lưu",
           "Khu đô thị Times City",
           "Khu đô thị Trung Văn",
           "Khu đô thị Tây Hồ Tây",
           "Khu đô thị Tây Nam Linh Đàm",
           "Khu đô thị Vinaconex 3",
           "Khu đô thị Vinhomes Riverside",
           "Khu đô thị Việt Hưng",
           "Khu đô thị Văn Khê",
           "Khu đô thị Văn Phú",
           "Khu đô thị Văn Quán",
           "Khu đô thị Xa La",
           "Khu đô thị Đại Kim",
           "Khu đô thị Đại Thanh",
           "Khâm Thiên",
           "Khương Mai",
           "Khương Thượng",
           "Khương Trung",
           "Khương Đình",
           "Kim Chung",
           "Kim Giang",
           "Kim Liên",
           "Kim Mã",
           "Kim Thư",
           "Kim Văn",
           "Kiên Thành",
           "Kiêu Kỵ",
           "Kiến Hưng",
           "La Khê",
           "La Phù",
           "Liễu Giai",
           "Lotte Center",
           "Lotte Center HàNội",
           "Làng Việt kiều Châu Âu",
           "Láng Hạ",
           "Láng Thượng",
           "Lê Quang Đạo",
           "Lê Đại Hành",
           "Lý Thái Tổ",
           "Lĩnh Nam",
           "Lạc hồng văn lâm hưng yên",
           "Mai Dịch",
           "Mai Động",
           "Minh Cường",
           "Minh Khai",
           "Mễ Trì",
           "Mễ Trì Hạ",
           "Mộ Lao",
           "Mỹ Đình",
           "Mỹ Đình 1",
           "Mỹ Đình 2",
           "Nam Từ Liêm",
           "Nam Đồng",
           "Ng. 17 Đ. Cổ Linh",
           "Nghĩa Tân",
           "Nghĩa Đô",
           "Nguyên Khê",
           "Nguyễn Du",
           "Nguyễn Trung Trực",
           "Nguyễn Trãi",
           "Ngã Tư Sở",
           "Ngô Thì Nhậm",
           "Ngõ 196 Thái Thịnh",
           "Ngõ 5 Trần Thái Tông",
           "Ngõ 6 Phố Đặng Văn Ngữ",
           "Ngọc Hoà",
           "Ngọc Hà",
           "Ngọc Hòa",
           "Ngọc Hồ",
           "Ngọc Hồi",
           "Ngọc Khánh",
           "Ngọc Lâm",
           "Ngọc Thanh",
           "Ngọc Thụy",
           "Ngọc Tảo",
           "Nhân Chính",
           "Như Lân",
           "Nhật Tân",
           "Noi Bai International Airport (HAN) (HAN)",
           "Nội thành",
           "P",
           "P. Mộ Lao",
           "P. Nguyễn Trãi",
           "P. Phúc La",
           "P. Quang Trung",
           "P. Văn Quán",
           "P. Yết Kiêu",
           "Phan Chu Trinh",
           "Phan Đình Phùng",
           "Phung",
           "Phù Khê",
           "Phú Cường",
           "Phú Diễn",
           "Phú La",
           "Phú Lâm",
           "Phú Lãm",
           "Phú Lương",
           "Phú Thượng",
           "Phú Thị",
           "Phú Đô",
           "Phúc Diễn",
           "Phúc La",
           "Phúc Lợi",
           "Phúc Tân",
           "Phúc Xá",
           "Phúc xá",
           "Phúc Đồng",
           "Phương Canh",
           "Phương Liên",
           "Phương Liệt",
           "Phương Mai",
           "Phương Đình",
           "Phường Trung Văn",
           "Phạm Đình Hồ",
           "Phạm Đình Hổ",
           "Phố Huế",
           "Phố Hồ Văn Chương",
           "Phố cổ Hà Nội",
           "Phụng Châu",
           "Phụng Công",
           "Quan Hoa",
           "Quang Trung",
           "Quán Thánh",
           "Quảng An",
           "Quốc Tử Giám",
           "Quỳnh Lôi",
           "Quỳnh Mai",
           "Road",
           "South",
           "Street",
           "Sài Đồng",
           "Sân bay Nội Bài (HAN)",
           "Sân bay quốc tế Nội Bài (HAN)",
           "TDP 5",
           "TDP Chính Trung",
           "TDP Nhuệ Giang",
           "TDP Vườn Dâu",
           "TDP số 10",
           "TDP số 23",
           "TDP số 45",
           "TDP số 7A+TDP số 7B",
           "TT. Phú Xuyên",
           "TT. Sài Đồng",
           "TT. Trạm Trôi",
           "Tam Hiệp",
           "Tdp",
           "Tdp Giao Quang",
           "Tdp Số 4",
           "Tdp Số 6",
           "Thanh Liệt",
           "Thanh Lương",
           "Thanh Nhàn",
           "Thanh Trì",
           "Thanh Xuân",
           "Thanh Xuân Bắc",
           "Thanh Xuân Nam",
           "Thanh Xuân Trung",
           "The Manor - Hà Nội",
           "Thuỵ Khuê",
           "Thuỵ Phương",
           "Thành Công",
           "Thôn Triều Khúc",
           "Thôn Đoài Khê",
           "Thăng Long Number One",
           "Thượng Bằng La",
           "Thượng Thanh",
           "Thượng Đình",
           "Thạch Bàn",
           "Thịnh Liệt",
           "Thịnh Quang",
           "Thổ Quan",
           "Thụy Khuê",
           "Thụy Phương",
           "Tiên Dương",
           "Triều Khúc",
           "Trung Hoà",
           "Trung Hà",
           "Trung Hòa Nhân Chính",
           "Trung Liệt",
           "Trung Phụng",
           "Trung Tự",
           "Trung Văn",
           "Tràng Tiền",
           "Trâu Quỳ",
           "Trúc Bạch",
           "Trương Định",
           "Trần Hưng Đạo",
           "Trần Phú",
           "Tân Lập",
           "Tân Mai",
           "Tân Triều",
           "Tân Xuân 1",
           "Tây Mỗ",
           "Tương Mai",
           "Tả Thanh Oai",
           "Tố Hữu",
           "Tổ 02",
           "Tổ 07a",
           "Tổ 10",
           "Tổ 12",
           "Tổ 13",
           "Tổ 14",
           "Tổ 15",
           "Tổ 18",
           "Tổ 2",
           "Tổ 22",
           "Tổ 23",
           "Tổ 25",
           "Tổ 27",
           "Tổ 28",
           "Tổ 29",
           "Tổ 3",
           "Tổ 36",
           "Tổ 40",
           "Tổ 41",
           "Tổ 46",
           "Tổ 47",
           "Tổ 5",
           "Tổ 54",
           "Tổ 56",
           "Tổ 57",
           "Tổ 58",
           "Tổ 65",
           "Tổ 7",
           "Tổ 7A",
           "Tổ 8",
           "Tổ DP số 4",
           "Tổ Dp Số 19",
           "Tổ Dân Phố 1",
           "Tổ Dân Phố 6c+Tổ Dân Phố 6d",
           "Tổ Dân Phố 75",
           "Tổ Dân Phố 9b+Tổ Dân Phố 9c",
           "Tổ Dân Phố Số 12",
           "Tổ Dân Phố Số 15",
           "Tổ Dân Phố Số 16",
           "Tổ Dân Phố Số 63",
           "Tổ dân phố 14B",
           "Tổ dân phố 17",
           "Tổ dân phố 1A",
           "Tổ dân phố 1D",
           "Tổ dân phố 2A+Tổ dân phố 2B+Tổ dân phố 2C",
           "Tổ dân phố 46",
           "Tổ dân phố 5A",
           "Tổ dân phố 6",
           "Tổ dân phố 6A+Tổ dân phố 6B",
           "Tổ dân phố 8",
           "Tổ dân phố 8A",
           "Tổ dân phố Hoàng 9",
           "Tổ dân phố số 1",
           "Tổ dân phố số 10",
           "Tổ dân phố số 13",
           "Tổ dân phố số 15",
           "Tổ dân phố số 2",
           "Tổ dân phố số 22",
           "Tổ dân phố số 23",
           "Tổ dân phố số 24",
           "Tổ dân phố số 25",
           "Tổ dân phố số 35",
           "Tổ dân phố số 4",
           "Tổ dân phố số 40",
           "Tổ dân phố số 53",
           "Tổ dân phố số 55",
           "Tổ dân phố số 64",
           "Tổ dân phố số 8",
           "Tổ dân phố số 9",
           "Tứ Hiệp",
           "Tứ Liên",
           "Từ Liêm",
           "Uy Nỗ",
           "Vinhomes Ocean Park",
           "Vinhomes Riverside",
           "Việt Hưng",
           "Vân Canh",
           "Vân Nội",
           "Văn Binh",
           "Văn Chương",
           "Văn Miếu",
           "Văn Quán",
           "Văn Trung",
           "Văn Điển",
           "Vĩnh Hưng",
           "Vĩnh Ngọc",
           "Vĩnh Phú",
           "Vĩnh Phúc",
           "Vĩnh Tuy",
           "Vạn Phúc",
           "Xuan Phuong",
           "Xuân La",
           "Xuân Phương",
           "Xuân Quan",
           "Xuân Tảo",
           "Xuân Đỉnh",
           "Yên Hoà",
           "Yên Nghĩa",
           "Yên Phúc",
           "Yên Phụ",
           "Yên Sở",
           "Yên Thường",
           "Yết Kiêu",
           "hồ Đền Lừ",
           "khu đô thị",
           "khu đô thị đô nghĩa",
           "làng Tó",
           "làng Vạn Phúc",
           "no location",
           "p. Long Biên",
           "phường Vĩnh Tuy",
           "phường Xuân Đỉnh",
           "thôn Cam",
           "thôn Hạ",
           "tt. Trâu Quỳ",
           "tổ 15",
           "tổ 16",
           "tổ 28",
           "ward",
           "xóm Tháp",
           "Ô Chợ Dừa",
           "Ô Cách",
           "Đa Tốn",
           "Đai Mễ",
           "Đai Mỗ",
           "Điện Biên",
           "Đông 2",
           "Đông Hội",
           "Đông La",
           "Đông Mỹ",
           "Đông Ngạc",
           "Đông Sơn",
           "Đông Thái",
           "Đường Ngô Gia Tự",
           "Đường Tân Xuân",
           "Đại Kim",
           "Đại Mỗ",
           "Đặng Xá",
           "Định Công",
           "Đống Mác",
           "Đồng Hóa",
           "Đồng Tâm",
           "Đồng Xuân",
           "Đội Cấn",
           "Đức Giang",
           "Đức Thắng",
           "đối diện sân"
          ],
          "line": {
           "color": "black",
           "width": 0.5
          },
          "pad": 15,
          "thickness": 20
         },
         "type": "sankey"
        }
       ],
       "layout": {
        "font": {
         "size": 10
        },
        "height": 2000,
        "template": {
         "data": {
          "bar": [
           {
            "error_x": {
             "color": "#2a3f5f"
            },
            "error_y": {
             "color": "#2a3f5f"
            },
            "marker": {
             "line": {
              "color": "#E5ECF6",
              "width": 0.5
             },
             "pattern": {
              "fillmode": "overlay",
              "size": 10,
              "solidity": 0.2
             }
            },
            "type": "bar"
           }
          ],
          "barpolar": [
           {
            "marker": {
             "line": {
              "color": "#E5ECF6",
              "width": 0.5
             },
             "pattern": {
              "fillmode": "overlay",
              "size": 10,
              "solidity": 0.2
             }
            },
            "type": "barpolar"
           }
          ],
          "carpet": [
           {
            "aaxis": {
             "endlinecolor": "#2a3f5f",
             "gridcolor": "white",
             "linecolor": "white",
             "minorgridcolor": "white",
             "startlinecolor": "#2a3f5f"
            },
            "baxis": {
             "endlinecolor": "#2a3f5f",
             "gridcolor": "white",
             "linecolor": "white",
             "minorgridcolor": "white",
             "startlinecolor": "#2a3f5f"
            },
            "type": "carpet"
           }
          ],
          "choropleth": [
           {
            "colorbar": {
             "outlinewidth": 0,
             "ticks": ""
            },
            "type": "choropleth"
           }
          ],
          "contour": [
           {
            "colorbar": {
             "outlinewidth": 0,
             "ticks": ""
            },
            "colorscale": [
             [
              0,
              "#0d0887"
             ],
             [
              0.1111111111111111,
              "#46039f"
             ],
             [
              0.2222222222222222,
              "#7201a8"
             ],
             [
              0.3333333333333333,
              "#9c179e"
             ],
             [
              0.4444444444444444,
              "#bd3786"
             ],
             [
              0.5555555555555556,
              "#d8576b"
             ],
             [
              0.6666666666666666,
              "#ed7953"
             ],
             [
              0.7777777777777778,
              "#fb9f3a"
             ],
             [
              0.8888888888888888,
              "#fdca26"
             ],
             [
              1,
              "#f0f921"
             ]
            ],
            "type": "contour"
           }
          ],
          "contourcarpet": [
           {
            "colorbar": {
             "outlinewidth": 0,
             "ticks": ""
            },
            "type": "contourcarpet"
           }
          ],
          "heatmap": [
           {
            "colorbar": {
             "outlinewidth": 0,
             "ticks": ""
            },
            "colorscale": [
             [
              0,
              "#0d0887"
             ],
             [
              0.1111111111111111,
              "#46039f"
             ],
             [
              0.2222222222222222,
              "#7201a8"
             ],
             [
              0.3333333333333333,
              "#9c179e"
             ],
             [
              0.4444444444444444,
              "#bd3786"
             ],
             [
              0.5555555555555556,
              "#d8576b"
             ],
             [
              0.6666666666666666,
              "#ed7953"
             ],
             [
              0.7777777777777778,
              "#fb9f3a"
             ],
             [
              0.8888888888888888,
              "#fdca26"
             ],
             [
              1,
              "#f0f921"
             ]
            ],
            "type": "heatmap"
           }
          ],
          "heatmapgl": [
           {
            "colorbar": {
             "outlinewidth": 0,
             "ticks": ""
            },
            "colorscale": [
             [
              0,
              "#0d0887"
             ],
             [
              0.1111111111111111,
              "#46039f"
             ],
             [
              0.2222222222222222,
              "#7201a8"
             ],
             [
              0.3333333333333333,
              "#9c179e"
             ],
             [
              0.4444444444444444,
              "#bd3786"
             ],
             [
              0.5555555555555556,
              "#d8576b"
             ],
             [
              0.6666666666666666,
              "#ed7953"
             ],
             [
              0.7777777777777778,
              "#fb9f3a"
             ],
             [
              0.8888888888888888,
              "#fdca26"
             ],
             [
              1,
              "#f0f921"
             ]
            ],
            "type": "heatmapgl"
           }
          ],
          "histogram": [
           {
            "marker": {
             "pattern": {
              "fillmode": "overlay",
              "size": 10,
              "solidity": 0.2
             }
            },
            "type": "histogram"
           }
          ],
          "histogram2d": [
           {
            "colorbar": {
             "outlinewidth": 0,
             "ticks": ""
            },
            "colorscale": [
             [
              0,
              "#0d0887"
             ],
             [
              0.1111111111111111,
              "#46039f"
             ],
             [
              0.2222222222222222,
              "#7201a8"
             ],
             [
              0.3333333333333333,
              "#9c179e"
             ],
             [
              0.4444444444444444,
              "#bd3786"
             ],
             [
              0.5555555555555556,
              "#d8576b"
             ],
             [
              0.6666666666666666,
              "#ed7953"
             ],
             [
              0.7777777777777778,
              "#fb9f3a"
             ],
             [
              0.8888888888888888,
              "#fdca26"
             ],
             [
              1,
              "#f0f921"
             ]
            ],
            "type": "histogram2d"
           }
          ],
          "histogram2dcontour": [
           {
            "colorbar": {
             "outlinewidth": 0,
             "ticks": ""
            },
            "colorscale": [
             [
              0,
              "#0d0887"
             ],
             [
              0.1111111111111111,
              "#46039f"
             ],
             [
              0.2222222222222222,
              "#7201a8"
             ],
             [
              0.3333333333333333,
              "#9c179e"
             ],
             [
              0.4444444444444444,
              "#bd3786"
             ],
             [
              0.5555555555555556,
              "#d8576b"
             ],
             [
              0.6666666666666666,
              "#ed7953"
             ],
             [
              0.7777777777777778,
              "#fb9f3a"
             ],
             [
              0.8888888888888888,
              "#fdca26"
             ],
             [
              1,
              "#f0f921"
             ]
            ],
            "type": "histogram2dcontour"
           }
          ],
          "mesh3d": [
           {
            "colorbar": {
             "outlinewidth": 0,
             "ticks": ""
            },
            "type": "mesh3d"
           }
          ],
          "parcoords": [
           {
            "line": {
             "colorbar": {
              "outlinewidth": 0,
              "ticks": ""
             }
            },
            "type": "parcoords"
           }
          ],
          "pie": [
           {
            "automargin": true,
            "type": "pie"
           }
          ],
          "scatter": [
           {
            "fillpattern": {
             "fillmode": "overlay",
             "size": 10,
             "solidity": 0.2
            },
            "type": "scatter"
           }
          ],
          "scatter3d": [
           {
            "line": {
             "colorbar": {
              "outlinewidth": 0,
              "ticks": ""
             }
            },
            "marker": {
             "colorbar": {
              "outlinewidth": 0,
              "ticks": ""
             }
            },
            "type": "scatter3d"
           }
          ],
          "scattercarpet": [
           {
            "marker": {
             "colorbar": {
              "outlinewidth": 0,
              "ticks": ""
             }
            },
            "type": "scattercarpet"
           }
          ],
          "scattergeo": [
           {
            "marker": {
             "colorbar": {
              "outlinewidth": 0,
              "ticks": ""
             }
            },
            "type": "scattergeo"
           }
          ],
          "scattergl": [
           {
            "marker": {
             "colorbar": {
              "outlinewidth": 0,
              "ticks": ""
             }
            },
            "type": "scattergl"
           }
          ],
          "scattermapbox": [
           {
            "marker": {
             "colorbar": {
              "outlinewidth": 0,
              "ticks": ""
             }
            },
            "type": "scattermapbox"
           }
          ],
          "scatterpolar": [
           {
            "marker": {
             "colorbar": {
              "outlinewidth": 0,
              "ticks": ""
             }
            },
            "type": "scatterpolar"
           }
          ],
          "scatterpolargl": [
           {
            "marker": {
             "colorbar": {
              "outlinewidth": 0,
              "ticks": ""
             }
            },
            "type": "scatterpolargl"
           }
          ],
          "scatterternary": [
           {
            "marker": {
             "colorbar": {
              "outlinewidth": 0,
              "ticks": ""
             }
            },
            "type": "scatterternary"
           }
          ],
          "surface": [
           {
            "colorbar": {
             "outlinewidth": 0,
             "ticks": ""
            },
            "colorscale": [
             [
              0,
              "#0d0887"
             ],
             [
              0.1111111111111111,
              "#46039f"
             ],
             [
              0.2222222222222222,
              "#7201a8"
             ],
             [
              0.3333333333333333,
              "#9c179e"
             ],
             [
              0.4444444444444444,
              "#bd3786"
             ],
             [
              0.5555555555555556,
              "#d8576b"
             ],
             [
              0.6666666666666666,
              "#ed7953"
             ],
             [
              0.7777777777777778,
              "#fb9f3a"
             ],
             [
              0.8888888888888888,
              "#fdca26"
             ],
             [
              1,
              "#f0f921"
             ]
            ],
            "type": "surface"
           }
          ],
          "table": [
           {
            "cells": {
             "fill": {
              "color": "#EBF0F8"
             },
             "line": {
              "color": "white"
             }
            },
            "header": {
             "fill": {
              "color": "#C8D4E3"
             },
             "line": {
              "color": "white"
             }
            },
            "type": "table"
           }
          ]
         },
         "layout": {
          "annotationdefaults": {
           "arrowcolor": "#2a3f5f",
           "arrowhead": 0,
           "arrowwidth": 1
          },
          "autotypenumbers": "strict",
          "coloraxis": {
           "colorbar": {
            "outlinewidth": 0,
            "ticks": ""
           }
          },
          "colorscale": {
           "diverging": [
            [
             0,
             "#8e0152"
            ],
            [
             0.1,
             "#c51b7d"
            ],
            [
             0.2,
             "#de77ae"
            ],
            [
             0.3,
             "#f1b6da"
            ],
            [
             0.4,
             "#fde0ef"
            ],
            [
             0.5,
             "#f7f7f7"
            ],
            [
             0.6,
             "#e6f5d0"
            ],
            [
             0.7,
             "#b8e186"
            ],
            [
             0.8,
             "#7fbc41"
            ],
            [
             0.9,
             "#4d9221"
            ],
            [
             1,
             "#276419"
            ]
           ],
           "sequential": [
            [
             0,
             "#0d0887"
            ],
            [
             0.1111111111111111,
             "#46039f"
            ],
            [
             0.2222222222222222,
             "#7201a8"
            ],
            [
             0.3333333333333333,
             "#9c179e"
            ],
            [
             0.4444444444444444,
             "#bd3786"
            ],
            [
             0.5555555555555556,
             "#d8576b"
            ],
            [
             0.6666666666666666,
             "#ed7953"
            ],
            [
             0.7777777777777778,
             "#fb9f3a"
            ],
            [
             0.8888888888888888,
             "#fdca26"
            ],
            [
             1,
             "#f0f921"
            ]
           ],
           "sequentialminus": [
            [
             0,
             "#0d0887"
            ],
            [
             0.1111111111111111,
             "#46039f"
            ],
            [
             0.2222222222222222,
             "#7201a8"
            ],
            [
             0.3333333333333333,
             "#9c179e"
            ],
            [
             0.4444444444444444,
             "#bd3786"
            ],
            [
             0.5555555555555556,
             "#d8576b"
            ],
            [
             0.6666666666666666,
             "#ed7953"
            ],
            [
             0.7777777777777778,
             "#fb9f3a"
            ],
            [
             0.8888888888888888,
             "#fdca26"
            ],
            [
             1,
             "#f0f921"
            ]
           ]
          },
          "colorway": [
           "#636efa",
           "#EF553B",
           "#00cc96",
           "#ab63fa",
           "#FFA15A",
           "#19d3f3",
           "#FF6692",
           "#B6E880",
           "#FF97FF",
           "#FECB52"
          ],
          "font": {
           "color": "#2a3f5f"
          },
          "geo": {
           "bgcolor": "white",
           "lakecolor": "white",
           "landcolor": "#E5ECF6",
           "showlakes": true,
           "showland": true,
           "subunitcolor": "white"
          },
          "hoverlabel": {
           "align": "left"
          },
          "hovermode": "closest",
          "mapbox": {
           "style": "light"
          },
          "paper_bgcolor": "white",
          "plot_bgcolor": "#E5ECF6",
          "polar": {
           "angularaxis": {
            "gridcolor": "white",
            "linecolor": "white",
            "ticks": ""
           },
           "bgcolor": "#E5ECF6",
           "radialaxis": {
            "gridcolor": "white",
            "linecolor": "white",
            "ticks": ""
           }
          },
          "scene": {
           "xaxis": {
            "backgroundcolor": "#E5ECF6",
            "gridcolor": "white",
            "gridwidth": 2,
            "linecolor": "white",
            "showbackground": true,
            "ticks": "",
            "zerolinecolor": "white"
           },
           "yaxis": {
            "backgroundcolor": "#E5ECF6",
            "gridcolor": "white",
            "gridwidth": 2,
            "linecolor": "white",
            "showbackground": true,
            "ticks": "",
            "zerolinecolor": "white"
           },
           "zaxis": {
            "backgroundcolor": "#E5ECF6",
            "gridcolor": "white",
            "gridwidth": 2,
            "linecolor": "white",
            "showbackground": true,
            "ticks": "",
            "zerolinecolor": "white"
           }
          },
          "shapedefaults": {
           "line": {
            "color": "#2a3f5f"
           }
          },
          "ternary": {
           "aaxis": {
            "gridcolor": "white",
            "linecolor": "white",
            "ticks": ""
           },
           "baxis": {
            "gridcolor": "white",
            "linecolor": "white",
            "ticks": ""
           },
           "bgcolor": "#E5ECF6",
           "caxis": {
            "gridcolor": "white",
            "linecolor": "white",
            "ticks": ""
           }
          },
          "title": {
           "x": 0.05
          },
          "xaxis": {
           "automargin": true,
           "gridcolor": "white",
           "linecolor": "white",
           "ticks": "",
           "title": {
            "standoff": 15
           },
           "zerolinecolor": "white",
           "zerolinewidth": 2
          },
          "yaxis": {
           "automargin": true,
           "gridcolor": "white",
           "linecolor": "white",
           "ticks": "",
           "title": {
            "standoff": 15
           },
           "zerolinecolor": "white",
           "zerolinewidth": 2
          }
         }
        },
        "title": {
         "text": "Sankey Diagram - Administrative level 2 - Hanoi"
        },
        "width": 2000
       }
      }
     },
     "metadata": {},
     "output_type": "display_data"
    },
    {
     "name": "stdout",
     "output_type": "stream",
     "text": [
      "published at: https://plotly.com/~panicpotatoe/40/\n"
     ]
    }
   ],
   "source": [
    "# create a plotly sankey diagram from wloc_df_pivot_nom_from_workplace_encoded\n",
    "import plotly.graph_objects as go\n",
    "import chart_studio\n",
    "import chart_studio.plotly as py\n",
    "import chart_studio.tools as tls\n",
    "\n",
    "# create sankey diagram\n",
    "fig = go.Figure(\n",
    "    data=[\n",
    "        go.Sankey(\n",
    "            node=dict(\n",
    "                pad=15,\n",
    "                thickness=20,\n",
    "                line=dict(color=\"black\", width=0.5),\n",
    "                # label=[\"cat\", \"dog\", \"domestic\", \"female\", \"male\", \"wild\"],\n",
    "                label=wards,\n",
    "                # color=\"blue\",\n",
    "            ),\n",
    "            link=dict(\n",
    "                source=df_address_sample_sk[\"start_address_l3\"],\n",
    "                target=df_address_sample_sk[\"end_address_l3\"],\n",
    "                value=df_address_sample_sk[\"count\"],\n",
    "            ),\n",
    "        )\n",
    "    ]\n",
    ")\n",
    "fig.update_layout(\n",
    "    title_text=(\"Sankey Diagram - Administrative level 2 - Hanoi\"),\n",
    "    font_size=10,\n",
    "    width=2000,\n",
    "    height=2000,\n",
    ")\n",
    "fig.show()\n",
    "\n",
    "# save sankey diagram to html file\n",
    "fig.write_html(\"3.1.1_sankey_l3.html\")\n",
    "\n",
    "# save the plotly sankey diagram as html file to plotly\n",
    "tls.set_credentials_file(\n",
    "    username=CHARTSTUDIO_USERNAME,\n",
    "    api_key=CHARTSTUDIO_API_KEY,\n",
    ")\n",
    "public_link = py.plot(\n",
    "    fig,\n",
    "    filename=\"3.1.1_sankey_l3.html\",\n",
    "    auto_open=False,\n",
    ")\n",
    "print(f\"published at: {public_link}\")"
   ]
  },
  {
   "cell_type": "markdown",
   "metadata": {},
   "source": [
    "### 1.1. Sankey digram by administritive area level 3"
   ]
  },
  {
   "cell_type": "code",
   "execution_count": 14,
   "metadata": {},
   "outputs": [
    {
     "name": "stdout",
     "output_type": "stream",
     "text": [
      "Ba Dinh district\n"
     ]
    },
    {
     "data": {
      "application/vnd.plotly.v1+json": {
       "config": {
        "plotlyServerURL": "https://plotly.com"
       },
       "data": [
        {
         "link": {
          "source": [
           1,
           2,
           2,
           2,
           2,
           2,
           2,
           2,
           2,
           2,
           2,
           2,
           2,
           2,
           2,
           2,
           3,
           3,
           3,
           3,
           3,
           3,
           5,
           5,
           5,
           5,
           5,
           5,
           5,
           5,
           5,
           5,
           5,
           5,
           5,
           5,
           5,
           6,
           6,
           6,
           6,
           6,
           6,
           6,
           8,
           8,
           8,
           8,
           8,
           8,
           8,
           8,
           8,
           8,
           8,
           8,
           8,
           8,
           8,
           9,
           9,
           9,
           9,
           10,
           10,
           10,
           10,
           10,
           10,
           10,
           10,
           10,
           10,
           10,
           10,
           10,
           11,
           11,
           11,
           11,
           11,
           11,
           11,
           11,
           11,
           11,
           11,
           11,
           11,
           13,
           13,
           13,
           13,
           13,
           13,
           13,
           13,
           13,
           13,
           13,
           13,
           13,
           13,
           13,
           13,
           18,
           18,
           18,
           18,
           18,
           18,
           18,
           18,
           18,
           18,
           18,
           18,
           23,
           23,
           23,
           23,
           23,
           23,
           23,
           23,
           23,
           23,
           29,
           29,
           29,
           29,
           29,
           29,
           31,
           31,
           32,
           32,
           32,
           32,
           32,
           32,
           33,
           33,
           33,
           33,
           33,
           33,
           33,
           33,
           33,
           33,
           33,
           33,
           33,
           33,
           36,
           40,
           40,
           40,
           40,
           40,
           40,
           40,
           40,
           40,
           40,
           41,
           41,
           41,
           41,
           41,
           41,
           41,
           41,
           41,
           41,
           41,
           41,
           41,
           41,
           73,
           77,
           77,
           78,
           78,
           78,
           78,
           78,
           78,
           78,
           78,
           78,
           78,
           78,
           78,
           78,
           78,
           78,
           78,
           78,
           78,
           78
          ],
          "target": [
           43,
           2,
           3,
           4,
           5,
           6,
           8,
           10,
           11,
           13,
           18,
           23,
           33,
           40,
           41,
           78,
           2,
           3,
           5,
           11,
           41,
           78,
           0,
           2,
           3,
           5,
           8,
           9,
           10,
           11,
           13,
           18,
           23,
           33,
           40,
           41,
           78,
           2,
           6,
           8,
           10,
           11,
           18,
           44,
           2,
           5,
           6,
           8,
           10,
           11,
           13,
           18,
           32,
           33,
           40,
           41,
           73,
           77,
           78,
           2,
           9,
           23,
           78,
           2,
           5,
           6,
           8,
           10,
           11,
           18,
           23,
           33,
           40,
           41,
           73,
           78,
           2,
           5,
           8,
           10,
           11,
           13,
           18,
           19,
           32,
           33,
           40,
           41,
           78,
           2,
           4,
           5,
           9,
           10,
           11,
           13,
           18,
           23,
           31,
           32,
           33,
           35,
           40,
           41,
           78,
           2,
           5,
           6,
           8,
           10,
           11,
           13,
           18,
           29,
           33,
           40,
           78,
           2,
           5,
           10,
           11,
           13,
           23,
           33,
           40,
           41,
           78,
           2,
           5,
           8,
           10,
           40,
           41,
           11,
           13,
           8,
           11,
           13,
           23,
           33,
           78,
           2,
           5,
           8,
           10,
           11,
           13,
           18,
           21,
           23,
           33,
           40,
           41,
           73,
           78,
           36,
           2,
           3,
           5,
           8,
           10,
           13,
           18,
           40,
           41,
           78,
           2,
           3,
           5,
           8,
           9,
           10,
           11,
           13,
           18,
           23,
           33,
           40,
           41,
           78,
           11,
           18,
           77,
           2,
           3,
           5,
           8,
           10,
           11,
           12,
           13,
           15,
           18,
           23,
           29,
           32,
           33,
           39,
           40,
           41,
           73,
           78
          ],
          "value": [
           15,
           35,
           4,
           2,
           24,
           3,
           10,
           23,
           8,
           3,
           5,
           8,
           15,
           14,
           12,
           20,
           3,
           4,
           6,
           3,
           2,
           3,
           2,
           22,
           5,
           103,
           5,
           2,
           24,
           5,
           14,
           2,
           24,
           25,
           9,
           43,
           16,
           5,
           22,
           3,
           5,
           4,
           8,
           2,
           21,
           8,
           9,
           98,
           58,
           39,
           3,
           12,
           4,
           20,
           4,
           5,
           5,
           2,
           25,
           2,
           3,
           4,
           2,
           23,
           9,
           2,
           45,
           62,
           14,
           19,
           2,
           11,
           9,
           6,
           3,
           11,
           9,
           5,
           15,
           13,
           34,
           2,
           3,
           2,
           2,
           12,
           5,
           2,
           16,
           2,
           2,
           7,
           2,
           3,
           6,
           81,
           2,
           7,
           3,
           4,
           12,
           2,
           3,
           6,
           14,
           7,
           7,
           7,
           14,
           17,
           6,
           4,
           50,
           5,
           2,
           3,
           8,
           4,
           9,
           2,
           3,
           9,
           4,
           3,
           4,
           21,
           3,
           3,
           4,
           3,
           3,
           4,
           2,
           3,
           2,
           2,
           4,
           3,
           2,
           4,
           2,
           14,
           25,
           28,
           11,
           15,
           10,
           3,
           2,
           4,
           56,
           3,
           13,
           3,
           41,
           29,
           10,
           2,
           10,
           3,
           11,
           2,
           4,
           11,
           5,
           3,
           10,
           2,
           43,
           2,
           4,
           8,
           7,
           8,
           2,
           17,
           6,
           5,
           41,
           12,
           2,
           2,
           8,
           17,
           4,
           32,
           25,
           25,
           24,
           3,
           5,
           2,
           6,
           4,
           3,
           3,
           28,
           2,
           5,
           9,
           4,
           53
          ]
         },
         "node": {
          "label": [
           "Ba Dinh district",
           "Ba Vì",
           "Ba Đình",
           "Bắc Từ Liêm",
           "Chương Mỹ",
           "Cầu Giấy",
           "Gia Lâm",
           "Giảng Võ",
           "Hai Bà Trưng",
           "Hoài Đức",
           "Hoàn Kiếm",
           "Hoàng Mai",
           "Hà Nội",
           "Hà Đông",
           "Hàng Bông",
           "Kim Bảng",
           "Kim Động",
           "Kiêu Kỵ",
           "Long Biên",
           "Lương Sơn",
           "Mễ Trì",
           "Mỹ Hào",
           "Mỹ Đình 1",
           "Nam Từ Liêm",
           "Phú Xuyên",
           "Phúc Thọ",
           "Phúc Yên",
           "Quận Nam Từ Liêm",
           "S2.10",
           "Sóc Sơn",
           "Sơn Tây",
           "Thanh Oai",
           "Thanh Trì",
           "Thanh Xuân",
           "Thành phố Hạ Long",
           "Thăng Long Number One",
           "Thường Tín",
           "Tiên Du",
           "Tp. Bắc Giang",
           "Trung Hoà",
           "Tây Hồ",
           "Từ Liêm",
           "Từ Sơn",
           "Văn Chấn",
           "Văn Giang",
           "Văn Lâm",
           "WJ8V+GF Chương Mỹ",
           "WMG9+CW Chương Mỹ",
           "WQPP+G8 Hà Đông",
           "XGXC+9W Thạch Thất",
           "XMJM+V3 Hoài Đức",
           "XP2X+J9 Hà Đông",
           "XPPQ+C7 Hà Đông",
           "XPXQ+MC Từ Liêm",
           "XQ27+VQ Hà Đông",
           "XQ58+WR Hà Đông",
           "XQ73+FW Hà Đông",
           "XQG4+9J Hà Đông",
           "XQG8+QW Hà Đông",
           "XQM5+J2 Nam Từ Liêm",
           "XQM5+J3 Nam Từ Liêm",
           "XQQ2+CM Hà Đông",
           "XQQ2+GC Hà Đông",
           "XQQ2+PF Hà Đông",
           "XQQ2+PG Hà Đông",
           "XR65+68 Thanh Trì",
           "XW7F+74 Văn Giang",
           "XWVR+HF Gia Lâm",
           "XXJ6+XM Gia Lâm",
           "XXR5+5G Gia Lâm",
           "XXW6+57 Gia Lâm",
           "Yên Mỹ",
           "huyện Chương Mỹ",
           "no location",
           "phường Xuân Đỉnh",
           "quận Hai Bà Trưng",
           "Đan Phượng",
           "Đông Anh",
           "Đống Đa"
          ],
          "line": {
           "color": "black",
           "width": 0.5
          },
          "pad": 15,
          "thickness": 20
         },
         "type": "sankey"
        }
       ],
       "layout": {
        "font": {
         "size": 10
        },
        "height": 2000,
        "template": {
         "data": {
          "bar": [
           {
            "error_x": {
             "color": "#2a3f5f"
            },
            "error_y": {
             "color": "#2a3f5f"
            },
            "marker": {
             "line": {
              "color": "#E5ECF6",
              "width": 0.5
             },
             "pattern": {
              "fillmode": "overlay",
              "size": 10,
              "solidity": 0.2
             }
            },
            "type": "bar"
           }
          ],
          "barpolar": [
           {
            "marker": {
             "line": {
              "color": "#E5ECF6",
              "width": 0.5
             },
             "pattern": {
              "fillmode": "overlay",
              "size": 10,
              "solidity": 0.2
             }
            },
            "type": "barpolar"
           }
          ],
          "carpet": [
           {
            "aaxis": {
             "endlinecolor": "#2a3f5f",
             "gridcolor": "white",
             "linecolor": "white",
             "minorgridcolor": "white",
             "startlinecolor": "#2a3f5f"
            },
            "baxis": {
             "endlinecolor": "#2a3f5f",
             "gridcolor": "white",
             "linecolor": "white",
             "minorgridcolor": "white",
             "startlinecolor": "#2a3f5f"
            },
            "type": "carpet"
           }
          ],
          "choropleth": [
           {
            "colorbar": {
             "outlinewidth": 0,
             "ticks": ""
            },
            "type": "choropleth"
           }
          ],
          "contour": [
           {
            "colorbar": {
             "outlinewidth": 0,
             "ticks": ""
            },
            "colorscale": [
             [
              0,
              "#0d0887"
             ],
             [
              0.1111111111111111,
              "#46039f"
             ],
             [
              0.2222222222222222,
              "#7201a8"
             ],
             [
              0.3333333333333333,
              "#9c179e"
             ],
             [
              0.4444444444444444,
              "#bd3786"
             ],
             [
              0.5555555555555556,
              "#d8576b"
             ],
             [
              0.6666666666666666,
              "#ed7953"
             ],
             [
              0.7777777777777778,
              "#fb9f3a"
             ],
             [
              0.8888888888888888,
              "#fdca26"
             ],
             [
              1,
              "#f0f921"
             ]
            ],
            "type": "contour"
           }
          ],
          "contourcarpet": [
           {
            "colorbar": {
             "outlinewidth": 0,
             "ticks": ""
            },
            "type": "contourcarpet"
           }
          ],
          "heatmap": [
           {
            "colorbar": {
             "outlinewidth": 0,
             "ticks": ""
            },
            "colorscale": [
             [
              0,
              "#0d0887"
             ],
             [
              0.1111111111111111,
              "#46039f"
             ],
             [
              0.2222222222222222,
              "#7201a8"
             ],
             [
              0.3333333333333333,
              "#9c179e"
             ],
             [
              0.4444444444444444,
              "#bd3786"
             ],
             [
              0.5555555555555556,
              "#d8576b"
             ],
             [
              0.6666666666666666,
              "#ed7953"
             ],
             [
              0.7777777777777778,
              "#fb9f3a"
             ],
             [
              0.8888888888888888,
              "#fdca26"
             ],
             [
              1,
              "#f0f921"
             ]
            ],
            "type": "heatmap"
           }
          ],
          "heatmapgl": [
           {
            "colorbar": {
             "outlinewidth": 0,
             "ticks": ""
            },
            "colorscale": [
             [
              0,
              "#0d0887"
             ],
             [
              0.1111111111111111,
              "#46039f"
             ],
             [
              0.2222222222222222,
              "#7201a8"
             ],
             [
              0.3333333333333333,
              "#9c179e"
             ],
             [
              0.4444444444444444,
              "#bd3786"
             ],
             [
              0.5555555555555556,
              "#d8576b"
             ],
             [
              0.6666666666666666,
              "#ed7953"
             ],
             [
              0.7777777777777778,
              "#fb9f3a"
             ],
             [
              0.8888888888888888,
              "#fdca26"
             ],
             [
              1,
              "#f0f921"
             ]
            ],
            "type": "heatmapgl"
           }
          ],
          "histogram": [
           {
            "marker": {
             "pattern": {
              "fillmode": "overlay",
              "size": 10,
              "solidity": 0.2
             }
            },
            "type": "histogram"
           }
          ],
          "histogram2d": [
           {
            "colorbar": {
             "outlinewidth": 0,
             "ticks": ""
            },
            "colorscale": [
             [
              0,
              "#0d0887"
             ],
             [
              0.1111111111111111,
              "#46039f"
             ],
             [
              0.2222222222222222,
              "#7201a8"
             ],
             [
              0.3333333333333333,
              "#9c179e"
             ],
             [
              0.4444444444444444,
              "#bd3786"
             ],
             [
              0.5555555555555556,
              "#d8576b"
             ],
             [
              0.6666666666666666,
              "#ed7953"
             ],
             [
              0.7777777777777778,
              "#fb9f3a"
             ],
             [
              0.8888888888888888,
              "#fdca26"
             ],
             [
              1,
              "#f0f921"
             ]
            ],
            "type": "histogram2d"
           }
          ],
          "histogram2dcontour": [
           {
            "colorbar": {
             "outlinewidth": 0,
             "ticks": ""
            },
            "colorscale": [
             [
              0,
              "#0d0887"
             ],
             [
              0.1111111111111111,
              "#46039f"
             ],
             [
              0.2222222222222222,
              "#7201a8"
             ],
             [
              0.3333333333333333,
              "#9c179e"
             ],
             [
              0.4444444444444444,
              "#bd3786"
             ],
             [
              0.5555555555555556,
              "#d8576b"
             ],
             [
              0.6666666666666666,
              "#ed7953"
             ],
             [
              0.7777777777777778,
              "#fb9f3a"
             ],
             [
              0.8888888888888888,
              "#fdca26"
             ],
             [
              1,
              "#f0f921"
             ]
            ],
            "type": "histogram2dcontour"
           }
          ],
          "mesh3d": [
           {
            "colorbar": {
             "outlinewidth": 0,
             "ticks": ""
            },
            "type": "mesh3d"
           }
          ],
          "parcoords": [
           {
            "line": {
             "colorbar": {
              "outlinewidth": 0,
              "ticks": ""
             }
            },
            "type": "parcoords"
           }
          ],
          "pie": [
           {
            "automargin": true,
            "type": "pie"
           }
          ],
          "scatter": [
           {
            "fillpattern": {
             "fillmode": "overlay",
             "size": 10,
             "solidity": 0.2
            },
            "type": "scatter"
           }
          ],
          "scatter3d": [
           {
            "line": {
             "colorbar": {
              "outlinewidth": 0,
              "ticks": ""
             }
            },
            "marker": {
             "colorbar": {
              "outlinewidth": 0,
              "ticks": ""
             }
            },
            "type": "scatter3d"
           }
          ],
          "scattercarpet": [
           {
            "marker": {
             "colorbar": {
              "outlinewidth": 0,
              "ticks": ""
             }
            },
            "type": "scattercarpet"
           }
          ],
          "scattergeo": [
           {
            "marker": {
             "colorbar": {
              "outlinewidth": 0,
              "ticks": ""
             }
            },
            "type": "scattergeo"
           }
          ],
          "scattergl": [
           {
            "marker": {
             "colorbar": {
              "outlinewidth": 0,
              "ticks": ""
             }
            },
            "type": "scattergl"
           }
          ],
          "scattermapbox": [
           {
            "marker": {
             "colorbar": {
              "outlinewidth": 0,
              "ticks": ""
             }
            },
            "type": "scattermapbox"
           }
          ],
          "scatterpolar": [
           {
            "marker": {
             "colorbar": {
              "outlinewidth": 0,
              "ticks": ""
             }
            },
            "type": "scatterpolar"
           }
          ],
          "scatterpolargl": [
           {
            "marker": {
             "colorbar": {
              "outlinewidth": 0,
              "ticks": ""
             }
            },
            "type": "scatterpolargl"
           }
          ],
          "scatterternary": [
           {
            "marker": {
             "colorbar": {
              "outlinewidth": 0,
              "ticks": ""
             }
            },
            "type": "scatterternary"
           }
          ],
          "surface": [
           {
            "colorbar": {
             "outlinewidth": 0,
             "ticks": ""
            },
            "colorscale": [
             [
              0,
              "#0d0887"
             ],
             [
              0.1111111111111111,
              "#46039f"
             ],
             [
              0.2222222222222222,
              "#7201a8"
             ],
             [
              0.3333333333333333,
              "#9c179e"
             ],
             [
              0.4444444444444444,
              "#bd3786"
             ],
             [
              0.5555555555555556,
              "#d8576b"
             ],
             [
              0.6666666666666666,
              "#ed7953"
             ],
             [
              0.7777777777777778,
              "#fb9f3a"
             ],
             [
              0.8888888888888888,
              "#fdca26"
             ],
             [
              1,
              "#f0f921"
             ]
            ],
            "type": "surface"
           }
          ],
          "table": [
           {
            "cells": {
             "fill": {
              "color": "#EBF0F8"
             },
             "line": {
              "color": "white"
             }
            },
            "header": {
             "fill": {
              "color": "#C8D4E3"
             },
             "line": {
              "color": "white"
             }
            },
            "type": "table"
           }
          ]
         },
         "layout": {
          "annotationdefaults": {
           "arrowcolor": "#2a3f5f",
           "arrowhead": 0,
           "arrowwidth": 1
          },
          "autotypenumbers": "strict",
          "coloraxis": {
           "colorbar": {
            "outlinewidth": 0,
            "ticks": ""
           }
          },
          "colorscale": {
           "diverging": [
            [
             0,
             "#8e0152"
            ],
            [
             0.1,
             "#c51b7d"
            ],
            [
             0.2,
             "#de77ae"
            ],
            [
             0.3,
             "#f1b6da"
            ],
            [
             0.4,
             "#fde0ef"
            ],
            [
             0.5,
             "#f7f7f7"
            ],
            [
             0.6,
             "#e6f5d0"
            ],
            [
             0.7,
             "#b8e186"
            ],
            [
             0.8,
             "#7fbc41"
            ],
            [
             0.9,
             "#4d9221"
            ],
            [
             1,
             "#276419"
            ]
           ],
           "sequential": [
            [
             0,
             "#0d0887"
            ],
            [
             0.1111111111111111,
             "#46039f"
            ],
            [
             0.2222222222222222,
             "#7201a8"
            ],
            [
             0.3333333333333333,
             "#9c179e"
            ],
            [
             0.4444444444444444,
             "#bd3786"
            ],
            [
             0.5555555555555556,
             "#d8576b"
            ],
            [
             0.6666666666666666,
             "#ed7953"
            ],
            [
             0.7777777777777778,
             "#fb9f3a"
            ],
            [
             0.8888888888888888,
             "#fdca26"
            ],
            [
             1,
             "#f0f921"
            ]
           ],
           "sequentialminus": [
            [
             0,
             "#0d0887"
            ],
            [
             0.1111111111111111,
             "#46039f"
            ],
            [
             0.2222222222222222,
             "#7201a8"
            ],
            [
             0.3333333333333333,
             "#9c179e"
            ],
            [
             0.4444444444444444,
             "#bd3786"
            ],
            [
             0.5555555555555556,
             "#d8576b"
            ],
            [
             0.6666666666666666,
             "#ed7953"
            ],
            [
             0.7777777777777778,
             "#fb9f3a"
            ],
            [
             0.8888888888888888,
             "#fdca26"
            ],
            [
             1,
             "#f0f921"
            ]
           ]
          },
          "colorway": [
           "#636efa",
           "#EF553B",
           "#00cc96",
           "#ab63fa",
           "#FFA15A",
           "#19d3f3",
           "#FF6692",
           "#B6E880",
           "#FF97FF",
           "#FECB52"
          ],
          "font": {
           "color": "#2a3f5f"
          },
          "geo": {
           "bgcolor": "white",
           "lakecolor": "white",
           "landcolor": "#E5ECF6",
           "showlakes": true,
           "showland": true,
           "subunitcolor": "white"
          },
          "hoverlabel": {
           "align": "left"
          },
          "hovermode": "closest",
          "mapbox": {
           "style": "light"
          },
          "paper_bgcolor": "white",
          "plot_bgcolor": "#E5ECF6",
          "polar": {
           "angularaxis": {
            "gridcolor": "white",
            "linecolor": "white",
            "ticks": ""
           },
           "bgcolor": "#E5ECF6",
           "radialaxis": {
            "gridcolor": "white",
            "linecolor": "white",
            "ticks": ""
           }
          },
          "scene": {
           "xaxis": {
            "backgroundcolor": "#E5ECF6",
            "gridcolor": "white",
            "gridwidth": 2,
            "linecolor": "white",
            "showbackground": true,
            "ticks": "",
            "zerolinecolor": "white"
           },
           "yaxis": {
            "backgroundcolor": "#E5ECF6",
            "gridcolor": "white",
            "gridwidth": 2,
            "linecolor": "white",
            "showbackground": true,
            "ticks": "",
            "zerolinecolor": "white"
           },
           "zaxis": {
            "backgroundcolor": "#E5ECF6",
            "gridcolor": "white",
            "gridwidth": 2,
            "linecolor": "white",
            "showbackground": true,
            "ticks": "",
            "zerolinecolor": "white"
           }
          },
          "shapedefaults": {
           "line": {
            "color": "#2a3f5f"
           }
          },
          "ternary": {
           "aaxis": {
            "gridcolor": "white",
            "linecolor": "white",
            "ticks": ""
           },
           "baxis": {
            "gridcolor": "white",
            "linecolor": "white",
            "ticks": ""
           },
           "bgcolor": "#E5ECF6",
           "caxis": {
            "gridcolor": "white",
            "linecolor": "white",
            "ticks": ""
           }
          },
          "title": {
           "x": 0.05
          },
          "xaxis": {
           "automargin": true,
           "gridcolor": "white",
           "linecolor": "white",
           "ticks": "",
           "title": {
            "standoff": 15
           },
           "zerolinecolor": "white",
           "zerolinewidth": 2
          },
          "yaxis": {
           "automargin": true,
           "gridcolor": "white",
           "linecolor": "white",
           "ticks": "",
           "title": {
            "standoff": 15
           },
           "zerolinecolor": "white",
           "zerolinewidth": 2
          }
         }
        },
        "title": {
         "text": "Sankey Diagram - Administrative level 2 - Hanoi"
        },
        "width": 2000
       }
      }
     },
     "metadata": {},
     "output_type": "display_data"
    },
    {
     "name": "stdout",
     "output_type": "stream",
     "text": [
      "published at: https://plotly.com/~panicpotatoe/42/\n"
     ]
    }
   ],
   "source": [
    "# create a sample dataframe from `df_address` including `start_address_l2`, `end_address_l2`\n",
    "df_address_sample = df_address_by_province[\n",
    "    [\"start_address_l2\", \"end_address_l2\"]\n",
    "].reset_index(drop=True)\n",
    "\n",
    "# OPTIONAL\n",
    "# drop rows that have `start_address_l2` and `end_address_l2` start with numbers\n",
    "df_address_sample = df_address_sample[\n",
    "    ~df_address_sample[\"start_address_l2\"].str.contains(\"^\\d\", na=False)\n",
    "]\n",
    "df_address_sample = df_address_sample[\n",
    "    ~df_address_sample[\"end_address_l2\"].str.contains(\"^\\d\", na=False)\n",
    "]\n",
    "\n",
    "# create a list of wards based on `start_address_l2` and `end_address_l2`\n",
    "wards = list(\n",
    "    set(df_address_sample[\"start_address_l2\"].unique())\n",
    "    | set(df_address_sample[\"end_address_l2\"].unique())\n",
    ")\n",
    "wards = sorted(wards)\n",
    "\n",
    "print(wards[0])\n",
    "# label encoding for `start_address_l2` and `end_address_l2`\n",
    "# by replacing `start_address_l2` and `end_address_l2` with index of `ward`\n",
    "df_address_sample.loc[:, \"start_address_l2\"] = df_address_sample[\n",
    "    \"start_address_l2\"\n",
    "].apply(lambda x: wards.index(x))\n",
    "df_address_sample.loc[:, \"end_address_l2\"] = df_address_sample[\"end_address_l2\"].apply(\n",
    "    lambda x: wards.index(x)\n",
    ")\n",
    "df_address_sample.head(5)\n",
    "# group `df_address_sample` by `start_address_ward` and `end_address_ward` and count the number of rows as `count`\n",
    "\n",
    "df_address_sample_sk = df_address_sample.groupby(\n",
    "    [\"start_address_l2\", \"end_address_l2\"]\n",
    ").size()\n",
    "\n",
    "# reset index of `df_address_sample_sk` and rename columns\n",
    "df_address_sample_sk = df_address_sample_sk.reset_index()\n",
    "df_address_sample_sk.columns = [\"start_address_l2\", \"end_address_l2\", \"count\"]\n",
    "\n",
    "# OPTIONAL\n",
    "# filter `df_address_sample_sk` with `count` > 100\n",
    "df_address_sample_sk = df_address_sample_sk[df_address_sample_sk[\"count\"] > 1]\n",
    "\n",
    "df_address_sample_sk.sample(5)\n",
    "import plotly.graph_objects as go\n",
    "\n",
    "# create sankey diagram\n",
    "fig = go.Figure(\n",
    "    data=[\n",
    "        go.Sankey(\n",
    "            node=dict(\n",
    "                pad=15,\n",
    "                thickness=20,\n",
    "                line=dict(color=\"black\", width=0.5),\n",
    "                # label=[\"cat\", \"dog\", \"domestic\", \"female\", \"male\", \"wild\"],\n",
    "                label=wards,\n",
    "                # color=\"blue\",\n",
    "            ),\n",
    "            link=dict(\n",
    "                source=df_address_sample_sk[\"start_address_l2\"],\n",
    "                target=df_address_sample_sk[\"end_address_l2\"],\n",
    "                value=df_address_sample_sk[\"count\"],\n",
    "            ),\n",
    "        )\n",
    "    ]\n",
    ")\n",
    "fig.update_layout(\n",
    "    title_text=(\"Sankey Diagram - Administrative level 2 - Hanoi\"),\n",
    "    font_size=10,\n",
    "    width=2000,\n",
    "    height=2000,\n",
    ")\n",
    "fig.show()\n",
    "\n",
    "# save sankey diagram to html file\n",
    "fig.write_html(\"3.1.2_sankey_l2.html\")\n",
    "\n",
    "# save the plotly sankey diagram as html file to plotly\n",
    "tls.set_credentials_file(\n",
    "    username=CHARTSTUDIO_USERNAME,\n",
    "    api_key=CHARTSTUDIO_API_KEY,\n",
    ")\n",
    "public_link = py.plot(\n",
    "    fig,\n",
    "    filename=\"3.1.2_sankey_l2.html\",\n",
    "    auto_open=False,\n",
    ")\n",
    "print(f\"published at: {public_link}\")"
   ]
  }
 ],
 "metadata": {
  "kernelspec": {
   "display_name": "playground311",
   "language": "python",
   "name": "python3"
  },
  "language_info": {
   "codemirror_mode": {
    "name": "ipython",
    "version": 3
   },
   "file_extension": ".py",
   "mimetype": "text/x-python",
   "name": "python",
   "nbconvert_exporter": "python",
   "pygments_lexer": "ipython3",
   "version": "3.11.0"
  }
 },
 "nbformat": 4,
 "nbformat_minor": 2
}
